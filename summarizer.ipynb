{
  "cells": [
    {
      "cell_type": "markdown",
      "metadata": {
        "id": "2Rr78GtOdjZu"
      },
      "source": [
        "# Loading dataset"
      ]
    },
    {
      "cell_type": "code",
      "execution_count": 23,
      "metadata": {},
      "outputs": [],
      "source": [
        "# from huggingface_hub import notebook_login\n",
        "# notebook_login()"
      ]
    },
    {
      "cell_type": "code",
      "execution_count": 24,
      "metadata": {
        "colab": {
          "base_uri": "https://localhost:8080/"
        },
        "id": "rySkZUEHR5Eu",
        "outputId": "56ec139a-0ec1-4f94-a7a6-f38ba28f030b"
      },
      "outputs": [],
      "source": [
        "# !pip3 install datasets\n",
        "from datasets import load_dataset\n",
        "df = load_dataset(\"samsum\")"
      ]
    },
    {
      "cell_type": "code",
      "execution_count": 25,
      "metadata": {
        "colab": {
          "base_uri": "https://localhost:8080/"
        },
        "id": "WsKG4T62Snp5",
        "outputId": "a17dc347-8ede-4a03-b7dc-5a3fccfe6018"
      },
      "outputs": [
        {
          "data": {
            "text/plain": [
              "DatasetDict({\n",
              "    train: Dataset({\n",
              "        features: ['id', 'dialogue', 'summary'],\n",
              "        num_rows: 14732\n",
              "    })\n",
              "    test: Dataset({\n",
              "        features: ['id', 'dialogue', 'summary'],\n",
              "        num_rows: 819\n",
              "    })\n",
              "    validation: Dataset({\n",
              "        features: ['id', 'dialogue', 'summary'],\n",
              "        num_rows: 818\n",
              "    })\n",
              "})"
            ]
          },
          "execution_count": 25,
          "metadata": {},
          "output_type": "execute_result"
        }
      ],
      "source": [
        "df"
      ]
    },
    {
      "cell_type": "code",
      "execution_count": 26,
      "metadata": {},
      "outputs": [],
      "source": [
        "import json\n",
        "\n",
        "with open(r\"DatasetRead\\DatasetRead\\test.json\", encoding=\"utf8\") as f:\n",
        "    test_data = json.load(f)\n",
        "\n",
        "with open(r\"DatasetRead\\DatasetRead\\train.json\", encoding=\"utf8\") as f:\n",
        "    train_data = json.load(f)\n",
        "\n",
        "with open(r\"DatasetRead\\DatasetRead\\val.json\", encoding=\"utf8\") as f:\n",
        "    val_data = json.load(f)\n",
        "\n",
        "train_dict = {\n",
        "    \"train\":train_data\n",
        "}\n",
        "\n",
        "validation_dict = {\n",
        "    \"validation\":val_data\n",
        "}\n",
        "\n",
        "test_dict = {\n",
        "    \"test\":test_data\n",
        "}\n"
      ]
    },
    {
      "cell_type": "code",
      "execution_count": 27,
      "metadata": {
        "colab": {
          "base_uri": "https://localhost:8080/",
          "height": 424
        },
        "id": "JJrSyMR_TCNE",
        "outputId": "ccb40f13-a4e0-4ac1-d03b-4b7cfb0e9a0e"
      },
      "outputs": [],
      "source": [
        "import pandas as pd\n",
        "# train_df = pd.DataFrame(df['train']).drop(columns = 'id')\n",
        "# validation_df = pd.DataFrame(df['validation']).drop(columns = 'id')\n",
        "# test_df = pd.DataFrame(df['test']).drop(columns='id')\n",
        "train_df = pd.DataFrame([[v for k, v in item.items()]for item in train_dict['train']], columns=[\"id\", \"summary\", \"dialogue\"])\n",
        "validation_df = pd.DataFrame([[v for k, v in item.items()]for item in validation_dict['validation']], columns=[\"id\", \"summary\", \"dialogue\"])\n",
        "test_df = pd.DataFrame([[v for k, v in item.items()]for item in test_dict['test']], columns=[\"id\", \"summary\", \"dialogue\"])"
      ]
    },
    {
      "cell_type": "code",
      "execution_count": 28,
      "metadata": {},
      "outputs": [],
      "source": [
        "train_df = train_df.drop(columns = 'id')\n",
        "validation_df = validation_df.drop(columns = 'id')\n",
        "test_df = test_df.drop(columns='id')"
      ]
    },
    {
      "cell_type": "code",
      "execution_count": 29,
      "metadata": {},
      "outputs": [
        {
          "data": {
            "text/html": [
              "<div>\n",
              "<style scoped>\n",
              "    .dataframe tbody tr th:only-of-type {\n",
              "        vertical-align: middle;\n",
              "    }\n",
              "\n",
              "    .dataframe tbody tr th {\n",
              "        vertical-align: top;\n",
              "    }\n",
              "\n",
              "    .dataframe thead th {\n",
              "        text-align: right;\n",
              "    }\n",
              "</style>\n",
              "<table border=\"1\" class=\"dataframe\">\n",
              "  <thead>\n",
              "    <tr style=\"text-align: right;\">\n",
              "      <th></th>\n",
              "      <th>summary</th>\n",
              "      <th>dialogue</th>\n",
              "    </tr>\n",
              "  </thead>\n",
              "  <tbody>\n",
              "    <tr>\n",
              "      <th>0</th>\n",
              "      <td>A will go to the animal shelter tomorrow to ge...</td>\n",
              "      <td>A: Hi Tom, are you busy tomorrow’s afternoon?\\...</td>\n",
              "    </tr>\n",
              "    <tr>\n",
              "      <th>1</th>\n",
              "      <td>Emma and Rob love the advent calendar. Lauren ...</td>\n",
              "      <td>Emma: I’ve just fallen in love with this adven...</td>\n",
              "    </tr>\n",
              "    <tr>\n",
              "      <th>2</th>\n",
              "      <td>Madison is pregnant but she doesn't want to ta...</td>\n",
              "      <td>Jackie: Madison is pregnant\\r\\nJackie: but she...</td>\n",
              "    </tr>\n",
              "    <tr>\n",
              "      <th>3</th>\n",
              "      <td>Marla found a pair of boxers under her bed.</td>\n",
              "      <td>Marla: &lt;file_photo&gt;\\r\\nMarla: look what I foun...</td>\n",
              "    </tr>\n",
              "    <tr>\n",
              "      <th>4</th>\n",
              "      <td>Robert wants Fred to send him the address of t...</td>\n",
              "      <td>Robert: Hey give me the address of this music ...</td>\n",
              "    </tr>\n",
              "    <tr>\n",
              "      <th>...</th>\n",
              "      <td>...</td>\n",
              "      <td>...</td>\n",
              "    </tr>\n",
              "    <tr>\n",
              "      <th>813</th>\n",
              "      <td>Carla's date for graduation is on June 4th. Di...</td>\n",
              "      <td>Carla: I've got it...\\r\\nDiego: what?\\r\\nCarla...</td>\n",
              "    </tr>\n",
              "    <tr>\n",
              "      <th>814</th>\n",
              "      <td>Bev is going on the school trip with her son. ...</td>\n",
              "      <td>Gita: Hello, this is Beti's Mum Gita, I wanted...</td>\n",
              "    </tr>\n",
              "    <tr>\n",
              "      <th>815</th>\n",
              "      <td>Greg cheated on Julia. He apologises to her. R...</td>\n",
              "      <td>Julia: Greg just texted me\\r\\nRobert: ugh, del...</td>\n",
              "    </tr>\n",
              "    <tr>\n",
              "      <th>816</th>\n",
              "      <td>Marry broke her nail and has a party tomorrow....</td>\n",
              "      <td>Marry: I broke my nail ;(\\r\\nTina: oh, no!\\r\\n...</td>\n",
              "    </tr>\n",
              "    <tr>\n",
              "      <th>817</th>\n",
              "      <td>Paige wants to have the declaration sent later...</td>\n",
              "      <td>Paige: I asked them to wait and send the decla...</td>\n",
              "    </tr>\n",
              "  </tbody>\n",
              "</table>\n",
              "<p>818 rows × 2 columns</p>\n",
              "</div>"
            ],
            "text/plain": [
              "                                               summary  \\\n",
              "0    A will go to the animal shelter tomorrow to ge...   \n",
              "1    Emma and Rob love the advent calendar. Lauren ...   \n",
              "2    Madison is pregnant but she doesn't want to ta...   \n",
              "3          Marla found a pair of boxers under her bed.   \n",
              "4    Robert wants Fred to send him the address of t...   \n",
              "..                                                 ...   \n",
              "813  Carla's date for graduation is on June 4th. Di...   \n",
              "814  Bev is going on the school trip with her son. ...   \n",
              "815  Greg cheated on Julia. He apologises to her. R...   \n",
              "816  Marry broke her nail and has a party tomorrow....   \n",
              "817  Paige wants to have the declaration sent later...   \n",
              "\n",
              "                                              dialogue  \n",
              "0    A: Hi Tom, are you busy tomorrow’s afternoon?\\...  \n",
              "1    Emma: I’ve just fallen in love with this adven...  \n",
              "2    Jackie: Madison is pregnant\\r\\nJackie: but she...  \n",
              "3    Marla: <file_photo>\\r\\nMarla: look what I foun...  \n",
              "4    Robert: Hey give me the address of this music ...  \n",
              "..                                                 ...  \n",
              "813  Carla: I've got it...\\r\\nDiego: what?\\r\\nCarla...  \n",
              "814  Gita: Hello, this is Beti's Mum Gita, I wanted...  \n",
              "815  Julia: Greg just texted me\\r\\nRobert: ugh, del...  \n",
              "816  Marry: I broke my nail ;(\\r\\nTina: oh, no!\\r\\n...  \n",
              "817  Paige: I asked them to wait and send the decla...  \n",
              "\n",
              "[818 rows x 2 columns]"
            ]
          },
          "execution_count": 29,
          "metadata": {},
          "output_type": "execute_result"
        }
      ],
      "source": [
        "validation_df"
      ]
    },
    {
      "cell_type": "code",
      "execution_count": 30,
      "metadata": {
        "colab": {
          "base_uri": "https://localhost:8080/"
        },
        "id": "dwdsI7SOTyUv",
        "outputId": "ffde7dfd-486a-4f08-c091-e7f895bb2300"
      },
      "outputs": [
        {
          "name": "stdout",
          "output_type": "stream",
          "text": [
            "This is train dataset description: \n",
            "                                                   summary  \\\n",
            "count                                               14732   \n",
            "unique                                              14730   \n",
            "top     Seth's pet Oreo that he got when he was 10 is ...   \n",
            "freq                                                    2   \n",
            "\n",
            "                                                 dialogue  \n",
            "count                                               14732  \n",
            "unique                                              14265  \n",
            "top     Jimmy: Hey, guess what? My car's completely ka...  \n",
            "freq                                                    4  \n",
            "This is validation dataset description: \n",
            "                                                   summary  \\\n",
            "count                                                 818   \n",
            "unique                                                818   \n",
            "top     A will go to the animal shelter tomorrow to ge...   \n",
            "freq                                                    1   \n",
            "\n",
            "                                                 dialogue  \n",
            "count                                                 818  \n",
            "unique                                                818  \n",
            "top     A: Hi Tom, are you busy tomorrow’s afternoon?\\...  \n",
            "freq                                                    1  \n",
            "This is test dataset description: \n",
            "                                                   summary  \\\n",
            "count                                                 819   \n",
            "unique                                                819   \n",
            "top     Hannah needs Betty's number but Amanda doesn't...   \n",
            "freq                                                    1   \n",
            "\n",
            "                                                 dialogue  \n",
            "count                                                 819  \n",
            "unique                                                819  \n",
            "top     Hannah: Hey, do you have Betty's number?\\nAman...  \n",
            "freq                                                    1  \n"
          ]
        }
      ],
      "source": [
        "print(f\"This is train dataset description: \\n {train_df.describe()}\")\n",
        "print(f\"This is validation dataset description: \\n {validation_df.describe()}\")\n",
        "print(f\"This is test dataset description: \\n {test_df.describe()}\")"
      ]
    },
    {
      "cell_type": "code",
      "execution_count": 31,
      "metadata": {
        "colab": {
          "base_uri": "https://localhost:8080/",
          "height": 112
        },
        "id": "Qk7zfT2WRAUN",
        "outputId": "ec6d988f-1be2-4085-f45a-97a7103353da"
      },
      "outputs": [
        {
          "data": {
            "text/html": [
              "<div>\n",
              "<style scoped>\n",
              "    .dataframe tbody tr th:only-of-type {\n",
              "        vertical-align: middle;\n",
              "    }\n",
              "\n",
              "    .dataframe tbody tr th {\n",
              "        vertical-align: top;\n",
              "    }\n",
              "\n",
              "    .dataframe thead th {\n",
              "        text-align: right;\n",
              "    }\n",
              "</style>\n",
              "<table border=\"1\" class=\"dataframe\">\n",
              "  <thead>\n",
              "    <tr style=\"text-align: right;\">\n",
              "      <th></th>\n",
              "      <th>summary</th>\n",
              "      <th>dialogue</th>\n",
              "    </tr>\n",
              "  </thead>\n",
              "  <tbody>\n",
              "    <tr>\n",
              "      <th>0</th>\n",
              "      <td>Hannah needs Betty's number but Amanda doesn't...</td>\n",
              "      <td>Hannah: Hey, do you have Betty's number?\\nAman...</td>\n",
              "    </tr>\n",
              "    <tr>\n",
              "      <th>1</th>\n",
              "      <td>Eric and Rob are going to watch a stand-up on ...</td>\n",
              "      <td>Eric: MACHINE!\\r\\nRob: That's so gr8!\\r\\nEric:...</td>\n",
              "    </tr>\n",
              "  </tbody>\n",
              "</table>\n",
              "</div>"
            ],
            "text/plain": [
              "                                             summary  \\\n",
              "0  Hannah needs Betty's number but Amanda doesn't...   \n",
              "1  Eric and Rob are going to watch a stand-up on ...   \n",
              "\n",
              "                                            dialogue  \n",
              "0  Hannah: Hey, do you have Betty's number?\\nAman...  \n",
              "1  Eric: MACHINE!\\r\\nRob: That's so gr8!\\r\\nEric:...  "
            ]
          },
          "execution_count": 31,
          "metadata": {},
          "output_type": "execute_result"
        }
      ],
      "source": [
        "test_df.head(2)"
      ]
    },
    {
      "cell_type": "markdown",
      "metadata": {},
      "source": [
        "### Number of tokens of original data"
      ]
    },
    {
      "cell_type": "markdown",
      "metadata": {},
      "source": [
        "Maximum token number"
      ]
    },
    {
      "cell_type": "code",
      "execution_count": 32,
      "metadata": {},
      "outputs": [
        {
          "name": "stdout",
          "output_type": "stream",
          "text": [
            "This is train dialogue token max length: 5492\n",
            "This is train summary token max length: 300\n",
            "This is validation token max length: 2950\n",
            "This is validation summary token max length: 300\n",
            "This is test dialogue token max length: 2793\n",
            "This is test summary token max length: 300\n"
          ]
        }
      ],
      "source": [
        "import numpy as np\n",
        "\n",
        "def find_max_length(text):\n",
        "    max_length = np.max([len(text_row) for text_row in text])\n",
        "    return max_length\n",
        "\n",
        "train_dialogue_max_length = find_max_length(train_df['dialogue'])\n",
        "print(f\"This is train dialogue token max length: {train_dialogue_max_length}\")\n",
        "train_summary_max_length = find_max_length(train_df['summary'])\n",
        "print(f\"This is train summary token max length: {train_summary_max_length}\")\n",
        "\n",
        "validation_dialogue_max_length = find_max_length(validation_df['dialogue'])\n",
        "print(f\"This is validation token max length: {validation_dialogue_max_length}\")\n",
        "validation_summary_max_length = find_max_length(validation_df['summary'])\n",
        "print(f\"This is validation summary token max length: {validation_summary_max_length}\")\n",
        "\n",
        "test_dialogue_max_length = find_max_length(test_df['dialogue'])\n",
        "print(f\"This is test dialogue token max length: {test_dialogue_max_length}\")\n",
        "test_summary_max_length = find_max_length(test_df['summary'])\n",
        "print(f\"This is test summary token max length: {test_summary_max_length}\")"
      ]
    },
    {
      "cell_type": "code",
      "execution_count": 33,
      "metadata": {},
      "outputs": [
        {
          "name": "stderr",
          "output_type": "stream",
          "text": [
            "C:\\Users\\seoeunl\\AppData\\Local\\Temp\\ipykernel_98036\\485700063.py:20: FutureWarning: \n",
            "\n",
            "Passing `palette` without assigning `hue` is deprecated and will be removed in v0.14.0. Assign the `x` variable to `hue` and set `legend=False` for the same effect.\n",
            "\n",
            "  ax=sns.barplot(x=labels, y= values, palette=np.array(palette[::-1]), legend=False)\n",
            "C:\\Users\\seoeunl\\AppData\\Local\\Temp\\ipykernel_98036\\485700063.py:20: UserWarning: Numpy array is not a supported type for `palette`. Please convert your palette to a list. This will become an error in v0.14\n",
            "  ax=sns.barplot(x=labels, y= values, palette=np.array(palette[::-1]), legend=False)\n",
            "C:\\Users\\seoeunl\\AppData\\Local\\Temp\\ipykernel_98036\\485700063.py:20: UserWarning: The palette list has more values (12) than needed (6), which may not be intended.\n",
            "  ax=sns.barplot(x=labels, y= values, palette=np.array(palette[::-1]), legend=False)\n",
            "C:\\Users\\seoeunl\\AppData\\Local\\Temp\\ipykernel_98036\\485700063.py:29: UserWarning: set_ticklabels() should only be used with a fixed number of ticks, i.e. after set_ticks() or using a FixedLocator.\n",
            "  ax.set_xticklabels(ax.get_xticklabels(), rotation=30)\n"
          ]
        },
        {
          "data": {
            "image/png": "[encoded data removed]",
            "text/plain": [
              "<Figure size 1000x600 with 1 Axes>"
            ]
          },
          "metadata": {},
          "output_type": "display_data"
        }
      ],
      "source": [
        "import numpy as np\n",
        "import matplotlib.pyplot as plt\n",
        "import seaborn as sns\n",
        "\n",
        "# Data for number of tokens\n",
        "train_dialogue_max_length = 5492\n",
        "train_summary_max_length = 300\n",
        "validation_dialogue_max_length = 2950\n",
        "validation_summary_max_length = 300\n",
        "test_dialogue_max_length = 2793\n",
        "test_summary_max_length = 300\n",
        "\n",
        "# Labels and values\n",
        "labels = ['Train Dialogue', 'Train Summary', 'Validation Dialogue', 'Validation Summary', 'Test Dialogue', 'Test Summary']\n",
        "values = [train_dialogue_max_length, train_summary_max_length, validation_dialogue_max_length, validation_summary_max_length, test_dialogue_max_length, test_summary_max_length]\n",
        "\n",
        "# Plotting\n",
        "palette = sns.color_palette(\"husl\", 12)\n",
        "plt.figure(figsize=(10, 6))\n",
        "ax=sns.barplot(x=labels, y= values, palette=np.array(palette[::-1]), legend=False)\n",
        "ax.set_title(\"Maximum Token Lengths\")\n",
        "ax.set_xlabel('Data Type')\n",
        "ax.set_ylabel('Max Token Length')\n",
        "\n",
        "# Adding values on top of bars\n",
        "for i, v in enumerate(values):\n",
        "    ax.text(i, v, str(v), ha='center', va='bottom')\n",
        "\n",
        "ax.set_xticklabels(ax.get_xticklabels(), rotation=30)\n",
        "plt.tight_layout()\n",
        "\n",
        "# Show plot\n",
        "plt.show()"
      ]
    },
    {
      "cell_type": "markdown",
      "metadata": {},
      "source": [
        "Average token number"
      ]
    },
    {
      "cell_type": "code",
      "execution_count": 34,
      "metadata": {},
      "outputs": [
        {
          "name": "stdout",
          "output_type": "stream",
          "text": [
            "This is train dialogue token avg length: 511.18361390171054\n",
            "This is train summary token avg length: 110.13467282106978\n",
            "This is validation token avg length: 499.3960880195599\n",
            "This is validation summary token avg length: 110.17481662591688\n",
            "This is test dialogue token avg length: 521.5982905982906\n",
            "This is test summary token avg length: 108.78021978021978\n"
          ]
        }
      ],
      "source": [
        "import numpy as np\n",
        "\n",
        "def find_avg_length(text):\n",
        "    avg_length = np.average([len(text_row) for text_row in text])\n",
        "    return avg_length\n",
        "\n",
        "train_dialogue_avg_length = find_avg_length(train_df['dialogue'])\n",
        "print(f\"This is train dialogue token avg length: {train_dialogue_avg_length}\")\n",
        "train_summary_avg_length = find_avg_length(train_df['summary'])\n",
        "print(f\"This is train summary token avg length: {train_summary_avg_length}\")\n",
        "\n",
        "validation_dialogue_avg_length = find_avg_length(validation_df['dialogue'])\n",
        "print(f\"This is validation token avg length: {validation_dialogue_avg_length}\")\n",
        "validation_summary_avg_length = find_avg_length(validation_df['summary'])\n",
        "print(f\"This is validation summary token avg length: {validation_summary_avg_length}\")\n",
        "\n",
        "test_dialogue_avg_length = find_avg_length(test_df['dialogue'])\n",
        "print(f\"This is test dialogue token avg length: {test_dialogue_avg_length}\")\n",
        "test_summary_avg_length = find_avg_length(test_df['summary'])\n",
        "print(f\"This is test summary token avg length: {test_summary_avg_length}\")"
      ]
    },
    {
      "cell_type": "code",
      "execution_count": 35,
      "metadata": {},
      "outputs": [
        {
          "name": "stderr",
          "output_type": "stream",
          "text": [
            "C:\\Users\\seoeunl\\AppData\\Local\\Temp\\ipykernel_98036\\2176572516.py:24: FutureWarning: \n",
            "\n",
            "Passing `palette` without assigning `hue` is deprecated and will be removed in v0.14.0. Assign the `x` variable to `hue` and set `legend=False` for the same effect.\n",
            "\n",
            "  ax=sns.barplot(x=labels, y= values, palette=np.array(palette[::-1]), legend=False)\n",
            "C:\\Users\\seoeunl\\AppData\\Local\\Temp\\ipykernel_98036\\2176572516.py:24: UserWarning: Numpy array is not a supported type for `palette`. Please convert your palette to a list. This will become an error in v0.14\n",
            "  ax=sns.barplot(x=labels, y= values, palette=np.array(palette[::-1]), legend=False)\n",
            "C:\\Users\\seoeunl\\AppData\\Local\\Temp\\ipykernel_98036\\2176572516.py:24: UserWarning: The palette list has more values (12) than needed (6), which may not be intended.\n",
            "  ax=sns.barplot(x=labels, y= values, palette=np.array(palette[::-1]), legend=False)\n",
            "C:\\Users\\seoeunl\\AppData\\Local\\Temp\\ipykernel_98036\\2176572516.py:33: UserWarning: set_ticklabels() should only be used with a fixed number of ticks, i.e. after set_ticks() or using a FixedLocator.\n",
            "  ax.set_xticklabels(ax.get_xticklabels(), rotation=30)\n"
          ]
        },
        {
          "data": {
            "image/png": "[encoded data removed]",
            "text/plain": [
              "<Figure size 1000x600 with 1 Axes>"
            ]
          },
          "metadata": {},
          "output_type": "display_data"
        }
      ],
      "source": [
        "import numpy as np\n",
        "import matplotlib.pyplot as plt\n",
        "import seaborn as sns\n",
        "\n",
        "'''\n",
        "Plotting average number of tokens of the dataset\n",
        "'''\n",
        "\n",
        "# Data for number of tokens\n",
        "train_dialogue_avg_length = 511\n",
        "train_summary_avg_length = 110\n",
        "validation_dialogue_avg_length = 499\n",
        "validation_summary_avg_length = 110\n",
        "test_dialogue_avg_length = 522\n",
        "test_summary_avg_length = 109\n",
        "\n",
        "# Labels and values\n",
        "labels = ['Train Dialogue', 'Train Summary', 'Validation Dialogue', 'Validation Summary', 'Test Dialogue', 'Test Summary']\n",
        "values = [train_dialogue_avg_length, train_summary_avg_length, validation_dialogue_avg_length, validation_summary_avg_length, test_dialogue_avg_length, test_summary_avg_length]\n",
        "\n",
        "# Plotting\n",
        "palette = sns.color_palette(\"husl\", 12)\n",
        "plt.figure(figsize=(10, 6))\n",
        "ax=sns.barplot(x=labels, y= values, palette=np.array(palette[::-1]), legend=False)\n",
        "ax.set_title(\"Average Token Lengths\")\n",
        "ax.set_xlabel('Data Type')\n",
        "ax.set_ylabel('Avg Token Length')\n",
        "\n",
        "# Adding values on top of bars\n",
        "for i, v in enumerate(values):\n",
        "    ax.text(i, v, str(v), ha='center', va='bottom')\n",
        "\n",
        "ax.set_xticklabels(ax.get_xticklabels(), rotation=30)\n",
        "plt.tight_layout()\n",
        "\n",
        "# Show plot\n",
        "plt.show()"
      ]
    },
    {
      "cell_type": "markdown",
      "metadata": {
        "id": "Zg8PbSBudtxq"
      },
      "source": [
        "# Data Preprocessing"
      ]
    },
    {
      "cell_type": "markdown",
      "metadata": {
        "id": "c8ozdwE_dxf7"
      },
      "source": [
        "### Lowercasing the text"
      ]
    },
    {
      "cell_type": "code",
      "execution_count": 36,
      "metadata": {
        "id": "6kr7oRW5dLrm"
      },
      "outputs": [],
      "source": [
        "def lowercase(dialogue, summary):\n",
        "  return dialogue.lower(), summary.lower()"
      ]
    },
    {
      "cell_type": "markdown",
      "metadata": {
        "id": "Q1RfxrGldcD7"
      },
      "source": [
        "### Contraction expansion"
      ]
    },
    {
      "cell_type": "code",
      "execution_count": 37,
      "metadata": {
        "colab": {
          "base_uri": "https://localhost:8080/"
        },
        "id": "v-WNgDc_lnKH",
        "outputId": "dcdb3cca-1c15-4c12-f3da-c29581971016"
      },
      "outputs": [],
      "source": [
        "# ! pip install contractions"
      ]
    },
    {
      "cell_type": "code",
      "execution_count": 38,
      "metadata": {
        "id": "UejKsqcudaA-"
      },
      "outputs": [],
      "source": [
        "import contractions\n",
        "\n",
        "def expand_contractions(dialogue, summary):\n",
        "  # list of words after expansion\n",
        "  expanded_d = []\n",
        "  expanded_s = []\n",
        "\n",
        "  d_words_list =  dialogue.split() # split the sentences into words\n",
        "  s_words_list = summary.split() # split the sentences into words\n",
        "\n",
        "  for word1 in d_words_list:\n",
        "    expanded_d.append(contractions.fix(word1)) # expanding the dialogue\n",
        "  for word2 in s_words_list:\n",
        "    expanded_s.append(contractions.fix(word2)) # expanding the summary\n",
        "\n",
        "  expanded_sentence_d = \" \".join(expanded_d) # put words back into sentences\n",
        "  expanded_sentence_s = \" \".join(expanded_s) # put words back into sentences\n",
        "\n",
        "  return expanded_sentence_d, expanded_sentence_s\n"
      ]
    },
    {
      "cell_type": "markdown",
      "metadata": {
        "id": "EToPWV8Kbw0v"
      },
      "source": [
        "### Abbreviation expansion"
      ]
    },
    {
      "cell_type": "code",
      "execution_count": 39,
      "metadata": {
        "colab": {
          "base_uri": "https://localhost:8080/"
        },
        "id": "m3oAcssGbwQ4",
        "outputId": "2f3a606a-71ee-4fc5-c491-df6b6bcf574a"
      },
      "outputs": [],
      "source": [
        "# !pip install abbreviations_py"
      ]
    },
    {
      "cell_type": "code",
      "execution_count": 40,
      "metadata": {},
      "outputs": [],
      "source": [
        "# from abbreviations_py.textes.abbreviator import fix, update_abbreviations\n",
        "\n",
        "# # expand abbreviations like gr8 -> great, ttyl -> talk to you later\n",
        "# def fix_abbreviations(dialogue, summary):\n",
        "#   fixed_dialogue = fix(dialogue)\n",
        "#   fixed_summary = fix(summary)"
      ]
    },
    {
      "cell_type": "code",
      "execution_count": 41,
      "metadata": {
        "id": "rkOalyrcb0Vh"
      },
      "outputs": [],
      "source": [
        "\n",
        "import json\n",
        "\n",
        "def normalize_abb(text):\n",
        "    abb_dict = json.loads(open('abbreviations.json', 'r', encoding=\"utf-8\").read())\n",
        "    # print(\"Normalizing abbreviations and alternative spelling\")\n",
        "    return normalize_abb_text(text, abb_dict)\n",
        "\n",
        "def normalize_abb_text(text, abbreviations):\n",
        "    return \" \".join([abbreviations[word] if word in abbreviations.keys() else word for word in text.split()])\n"
      ]
    },
    {
      "cell_type": "markdown",
      "metadata": {
        "id": "fC3lkLN3ggH1"
      },
      "source": [
        "### Removing punctuation"
      ]
    },
    {
      "cell_type": "code",
      "execution_count": 42,
      "metadata": {
        "colab": {
          "base_uri": "https://localhost:8080/"
        },
        "id": "yH7tKj2Ua5xI",
        "outputId": "02a0b9bd-8295-4bb4-e552-5b3269b40138"
      },
      "outputs": [
        {
          "name": "stderr",
          "output_type": "stream",
          "text": [
            "[nltk_data] Downloading package punkt to\n",
            "[nltk_data]     C:\\Users\\seoeunl\\AppData\\Roaming\\nltk_data...\n",
            "[nltk_data]   Package punkt is already up-to-date!\n"
          ]
        }
      ],
      "source": [
        "import string\n",
        "import nltk\n",
        "# from nltk import pos_tag\n",
        "# from nltk.corpus import wordnet\n",
        "\n",
        "nltk.download('punkt')\n",
        "\n",
        "punctuations = list(string.punctuation)\n",
        "punctuations.append('’')\n",
        "punctuations.append(\"”\")\n",
        "punctuations.append(\"“\")\n",
        "punctuations= \"\".join(punctuations)\n",
        "\n",
        "def remove_punctuations(dialogue, summary):\n",
        "  dialogue = dialogue.translate(str.maketrans(' ',' ',punctuations))\n",
        "  summary = summary.translate(str.maketrans(' ',' ',punctuations))\n",
        "  return dialogue, summary"
      ]
    },
    {
      "cell_type": "markdown",
      "metadata": {
        "id": "4rYVMCWHvFLA"
      },
      "source": [
        "### Removing Stopwords"
      ]
    },
    {
      "cell_type": "code",
      "execution_count": 43,
      "metadata": {
        "colab": {
          "base_uri": "https://localhost:8080/"
        },
        "id": "w9ZUsWe_vJCe",
        "outputId": "b528cedd-4ec1-4f2a-9eb0-11b60f73c6a0"
      },
      "outputs": [
        {
          "name": "stderr",
          "output_type": "stream",
          "text": [
            "[nltk_data] Downloading package stopwords to\n",
            "[nltk_data]     C:\\Users\\seoeunl\\AppData\\Roaming\\nltk_data...\n",
            "[nltk_data]   Package stopwords is already up-to-date!\n"
          ]
        }
      ],
      "source": [
        "from nltk.corpus import stopwords\n",
        "nltk.download('stopwords')\n",
        "stops = set(stopwords.words('english'))\n",
        "\n",
        "def remove_stopword(dialogue, summary):\n",
        "  d_words_list =  dialogue.split() # split the sentences into words\n",
        "  s_words_list = summary.split() # split the sentences into words\n",
        "  for word in d_words_list:\n",
        "    if word not in stops:\n",
        "      dialogue = \" \".join(word)\n",
        "\n",
        "  for word in s_words_list:\n",
        "    if word not in stops:\n",
        "      summary = \" \".join(word)\n",
        "\n",
        "  return dialogue, summary"
      ]
    },
    {
      "cell_type": "markdown",
      "metadata": {
        "id": "x6DiLnzTgmnR"
      },
      "source": [
        "### Removing Special Characters"
      ]
    },
    {
      "cell_type": "code",
      "execution_count": 44,
      "metadata": {
        "id": "s2kl5DBcglPX"
      },
      "outputs": [],
      "source": [
        "import re\n",
        "\n",
        "# def is_special_present(token):\n",
        "#     if len(token)>1:\n",
        "#         return False\n",
        "#     else:\n",
        "#         return ord(token)<32 or ord(token)>127 #true for special characters\n",
        "\n",
        "# special_chars = []\n",
        "# for token in train_df['dialogue']:\n",
        "#     for ch in token:\n",
        "#       if is_special_present(ch):\n",
        "#           special_chars.append(ch)\n",
        "\n",
        "# print(\"Total number of special characters: \", len(special_chars))\n",
        "# print(\"Special characters: \", special_chars)\n",
        "\n",
        "def remove_specials(dialogue, summary):\n",
        "  filtered_dialogue=re.sub('[^A-Za-z0-9.]+', ' ', dialogue)\n",
        "  filtered_summary=re.sub('[^A-Za-z0-9.]+', ' ', summary)\n",
        "  return filtered_dialogue, filtered_summary"
      ]
    },
    {
      "cell_type": "markdown",
      "metadata": {
        "id": "v3ZLzaJbIovC"
      },
      "source": [
        "### Cleaning text"
      ]
    },
    {
      "cell_type": "code",
      "execution_count": 45,
      "metadata": {
        "id": "pSKCu9zUgxmB"
      },
      "outputs": [],
      "source": [
        "def clean_text(dialogue, summary):\n",
        "    cleaned_dialogues:list = []\n",
        "    cleaned_summaries:list = []\n",
        "    for idx in range(len(dialogue)):\n",
        "      cleaned_dialogue, cleaned_summary = lowercase(dialogue[idx], summary[idx])\n",
        "      cleaned_dialogue, cleaned_summary = expand_contractions(cleaned_dialogue, cleaned_summary)\n",
        "      cleaned_dialogue = normalize_abb(cleaned_dialogue)\n",
        "      cleaned_summary = normalize_abb(cleaned_summary)\n",
        "      cleaned_dialogue, cleaned_summary = remove_punctuations(cleaned_dialogue, cleaned_summary)\n",
        "      cleaned_dialogue, cleaned_summary = remove_specials(cleaned_dialogue, cleaned_summary)\n",
        "      cleaned_dialogues.append(cleaned_dialogue)\n",
        "      cleaned_summaries.append(cleaned_summary)\n",
        "    return cleaned_dialogues, cleaned_summaries"
      ]
    },
    {
      "cell_type": "code",
      "execution_count": 46,
      "metadata": {
        "id": "PlIbeh3uI4sr"
      },
      "outputs": [],
      "source": [
        "train_dialogue, train_summary = clean_text(train_df['dialogue'], train_df['summary'])\n",
        "validation_dialogue, validation_summary = clean_text(validation_df['dialogue'], validation_df['summary'])\n",
        "test_dialogue, test_summary = clean_text(test_df['dialogue'], test_df['summary'])\n",
        "# print(f\"This is train dialogue and summary: {train_dialogue, train_summary}\")\n",
        "# print(f\"This is validation dialogue and summary: {validation_dialogue, validation_summary}\")\n",
        "# print(f\"This is test dialogue and summary: {test_dialogue, test_summary}\")"
      ]
    },
    {
      "cell_type": "code",
      "execution_count": 47,
      "metadata": {
        "colab": {
          "base_uri": "https://localhost:8080/"
        },
        "id": "Rj9JZPPNLRg_",
        "outputId": "8c89b5bf-2913-413f-b3e2-ad2c38d1f5f6"
      },
      "outputs": [
        {
          "name": "stdout",
          "output_type": "stream",
          "text": [
            "eric machine rob that is significant other gr8 eric i know and shows how americans see russian rob and it is really funny eric i know i especially like the train part rob hahaha no one talks to the machine like that eric is this his only standup rob i do not know i will check eric sure rob turns out no there are some of his standups on youtube eric gr8 i will watch them now rob me too eric machine rob machine eric ttyl rob sure \n"
          ]
        }
      ],
      "source": [
        "print(test_dialogue[1])"
      ]
    },
    {
      "cell_type": "code",
      "execution_count": 48,
      "metadata": {
        "id": "U4uOcuYEK3p4"
      },
      "outputs": [],
      "source": [
        "# formatting cleaned data back into df\n",
        "train_df = pd.DataFrame({'dialogue':train_dialogue, 'summary':train_summary})\n",
        "validaiton_df = pd.DataFrame({'dialogue':validation_dialogue, 'summary':validation_summary})\n",
        "test_df = pd.DataFrame({'dialogue':test_dialogue, 'summary':test_summary})"
      ]
    },
    {
      "cell_type": "code",
      "execution_count": 49,
      "metadata": {
        "colab": {
          "base_uri": "https://localhost:8080/",
          "height": 112
        },
        "id": "_vYhsxTkLoM3",
        "outputId": "a25a92a0-82fd-45e3-d9e1-ed4e91a394d2"
      },
      "outputs": [
        {
          "data": {
            "text/html": [
              "<div>\n",
              "<style scoped>\n",
              "    .dataframe tbody tr th:only-of-type {\n",
              "        vertical-align: middle;\n",
              "    }\n",
              "\n",
              "    .dataframe tbody tr th {\n",
              "        vertical-align: top;\n",
              "    }\n",
              "\n",
              "    .dataframe thead th {\n",
              "        text-align: right;\n",
              "    }\n",
              "</style>\n",
              "<table border=\"1\" class=\"dataframe\">\n",
              "  <thead>\n",
              "    <tr style=\"text-align: right;\">\n",
              "      <th></th>\n",
              "      <th>dialogue</th>\n",
              "      <th>summary</th>\n",
              "    </tr>\n",
              "  </thead>\n",
              "  <tbody>\n",
              "    <tr>\n",
              "      <th>0</th>\n",
              "      <td>hannah hey do you have bettys number amanda le...</td>\n",
              "      <td>hannah needs bettys number but amanda does not...</td>\n",
              "    </tr>\n",
              "    <tr>\n",
              "      <th>1</th>\n",
              "      <td>eric machine rob that is significant other gr8...</td>\n",
              "      <td>eric and rob are going to watch a standup on y...</td>\n",
              "    </tr>\n",
              "  </tbody>\n",
              "</table>\n",
              "</div>"
            ],
            "text/plain": [
              "                                            dialogue  \\\n",
              "0  hannah hey do you have bettys number amanda le...   \n",
              "1  eric machine rob that is significant other gr8...   \n",
              "\n",
              "                                             summary  \n",
              "0  hannah needs bettys number but amanda does not...  \n",
              "1  eric and rob are going to watch a standup on y...  "
            ]
          },
          "execution_count": 49,
          "metadata": {},
          "output_type": "execute_result"
        }
      ],
      "source": [
        "test_df.head(2)"
      ]
    },
    {
      "cell_type": "markdown",
      "metadata": {},
      "source": [
        "### Number of tokens after cleaning data"
      ]
    },
    {
      "cell_type": "code",
      "execution_count": 50,
      "metadata": {
        "colab": {
          "base_uri": "https://localhost:8080/"
        },
        "id": "jFbgA-tuNe8q",
        "outputId": "095b26a4-6dc5-4837-fc18-7562cdd36939"
      },
      "outputs": [
        {
          "name": "stdout",
          "output_type": "stream",
          "text": [
            "This is train dialogue token max length: 4059\n",
            "This is train summary token max length: 333\n",
            "This is validation token max length: 2952\n",
            "This is validation summary token max length: 314\n",
            "This is test dialogue token max length: 2786\n",
            "This is test summary token max length: 314\n"
          ]
        }
      ],
      "source": [
        "import numpy as np\n",
        "\n",
        "\"\"\"\n",
        "Maximum number of tokens after cleaning data\n",
        "\"\"\"\n",
        "\n",
        "def find_max_length(text):\n",
        "    max_length = np.max([len(text_row) for text_row in text])\n",
        "    return max_length\n",
        "\n",
        "train_dialogue_max_length = find_max_length(train_df['dialogue'])\n",
        "print(f\"This is train dialogue token max length: {train_dialogue_max_length}\")\n",
        "train_summary_max_length = find_max_length(train_df['summary'])\n",
        "print(f\"This is train summary token max length: {train_summary_max_length}\")\n",
        "\n",
        "validation_dialogue_max_length = find_max_length(validaiton_df['dialogue'])\n",
        "print(f\"This is validation token max length: {validation_dialogue_max_length}\")\n",
        "validation_summary_max_length = find_max_length(validaiton_df['summary'])\n",
        "print(f\"This is validation summary token max length: {validation_summary_max_length}\")\n",
        "\n",
        "test_dialogue_max_length = find_max_length(test_df['dialogue'])\n",
        "print(f\"This is test dialogue token max length: {test_dialogue_max_length}\")\n",
        "test_summary_max_length = find_max_length(test_df['summary'])\n",
        "print(f\"This is test summary token max length: {test_summary_max_length}\")"
      ]
    },
    {
      "cell_type": "code",
      "execution_count": 51,
      "metadata": {},
      "outputs": [
        {
          "name": "stderr",
          "output_type": "stream",
          "text": [
            "C:\\Users\\seoeunl\\AppData\\Local\\Temp\\ipykernel_98036\\237026039.py:20: FutureWarning: \n",
            "\n",
            "Passing `palette` without assigning `hue` is deprecated and will be removed in v0.14.0. Assign the `x` variable to `hue` and set `legend=False` for the same effect.\n",
            "\n",
            "  ax=sns.barplot(x=labels, y= values, palette=np.array(palette[::-1]), legend=False)\n",
            "C:\\Users\\seoeunl\\AppData\\Local\\Temp\\ipykernel_98036\\237026039.py:20: UserWarning: Numpy array is not a supported type for `palette`. Please convert your palette to a list. This will become an error in v0.14\n",
            "  ax=sns.barplot(x=labels, y= values, palette=np.array(palette[::-1]), legend=False)\n",
            "C:\\Users\\seoeunl\\AppData\\Local\\Temp\\ipykernel_98036\\237026039.py:20: UserWarning: The palette list has more values (12) than needed (6), which may not be intended.\n",
            "  ax=sns.barplot(x=labels, y= values, palette=np.array(palette[::-1]), legend=False)\n",
            "C:\\Users\\seoeunl\\AppData\\Local\\Temp\\ipykernel_98036\\237026039.py:29: UserWarning: set_ticklabels() should only be used with a fixed number of ticks, i.e. after set_ticks() or using a FixedLocator.\n",
            "  ax.set_xticklabels(ax.get_xticklabels(), rotation=30)\n"
          ]
        },
        {
          "data": {
            "image/png": "[encoded data removed]",
            "text/plain": [
              "<Figure size 1000x600 with 1 Axes>"
            ]
          },
          "metadata": {},
          "output_type": "display_data"
        }
      ],
      "source": [
        "import numpy as np\n",
        "import matplotlib.pyplot as plt\n",
        "import seaborn as sns\n",
        "\n",
        "# Data for number of tokens\n",
        "train_dialogue_max_length = 4059\n",
        "train_summary_max_length = 333\n",
        "validation_dialogue_max_length = 2952\n",
        "validation_summary_max_length = 314\n",
        "test_dialogue_max_length = 2786\n",
        "test_summary_max_length = 314\n",
        "\n",
        "# Labels and values\n",
        "labels = ['Train Dialogue', 'Train Summary', 'Validation Dialogue', 'Validation Summary', 'Test Dialogue', 'Test Summary']\n",
        "values = [train_dialogue_max_length, train_summary_max_length, validation_dialogue_max_length, validation_summary_max_length, test_dialogue_max_length, test_summary_max_length]\n",
        "\n",
        "# Plotting\n",
        "palette = sns.color_palette(\"husl\", 12)\n",
        "plt.figure(figsize=(10, 6))\n",
        "ax=sns.barplot(x=labels, y= values, palette=np.array(palette[::-1]), legend=False)\n",
        "ax.set_title(\"Maximum Token Lengths\")\n",
        "ax.set_xlabel('Data Type')\n",
        "ax.set_ylabel('Max Token Length')\n",
        "\n",
        "# Adding values on top of bars\n",
        "for i, v in enumerate(values):\n",
        "    ax.text(i, v, str(v), ha='center', va='bottom')\n",
        "\n",
        "ax.set_xticklabels(ax.get_xticklabels(), rotation=30)\n",
        "plt.tight_layout()\n",
        "\n",
        "# Show plot\n",
        "plt.show()"
      ]
    },
    {
      "cell_type": "code",
      "execution_count": 52,
      "metadata": {},
      "outputs": [
        {
          "name": "stdout",
          "output_type": "stream",
          "text": [
            "This is train dialogue token avg length: 492.05104534347\n",
            "This is train summary token avg length: 108.96327721965788\n",
            "This is validation token avg length: 499.3960880195599\n",
            "This is validation summary token avg length: 110.17481662591688\n",
            "This is test dialogue token avg length: 501.8376068376068\n",
            "This is test summary token avg length: 107.52503052503053\n"
          ]
        }
      ],
      "source": [
        "import numpy as np\n",
        "\n",
        "\"\"\"\n",
        "Average number of tokens after cleaning data\n",
        "\"\"\"\n",
        "\n",
        "def find_avg_length(text):\n",
        "    avg_length = np.average([len(text_row) for text_row in text])\n",
        "    return avg_length\n",
        "\n",
        "train_dialogue_avg_length = find_avg_length(train_df['dialogue'])\n",
        "print(f\"This is train dialogue token avg length: {train_dialogue_avg_length}\")\n",
        "train_summary_avg_length = find_avg_length(train_df['summary'])\n",
        "print(f\"This is train summary token avg length: {train_summary_avg_length}\")\n",
        "\n",
        "validation_dialogue_avg_length = find_avg_length(validation_df['dialogue'])\n",
        "print(f\"This is validation token avg length: {validation_dialogue_avg_length}\")\n",
        "validation_summary_avg_length = find_avg_length(validation_df['summary'])\n",
        "print(f\"This is validation summary token avg length: {validation_summary_avg_length}\")\n",
        "\n",
        "test_dialogue_avg_length = find_avg_length(test_df['dialogue'])\n",
        "print(f\"This is test dialogue token avg length: {test_dialogue_avg_length}\")\n",
        "test_summary_avg_length = find_avg_length(test_df['summary'])\n",
        "print(f\"This is test summary token avg length: {test_summary_avg_length}\")"
      ]
    },
    {
      "cell_type": "code",
      "execution_count": 53,
      "metadata": {},
      "outputs": [
        {
          "name": "stderr",
          "output_type": "stream",
          "text": [
            "C:\\Users\\seoeunl\\AppData\\Local\\Temp\\ipykernel_98036\\2279924813.py:20: FutureWarning: \n",
            "\n",
            "Passing `palette` without assigning `hue` is deprecated and will be removed in v0.14.0. Assign the `x` variable to `hue` and set `legend=False` for the same effect.\n",
            "\n",
            "  ax=sns.barplot(x=labels, y= values, palette=np.array(palette[::-1]), legend=False)\n",
            "C:\\Users\\seoeunl\\AppData\\Local\\Temp\\ipykernel_98036\\2279924813.py:20: UserWarning: Numpy array is not a supported type for `palette`. Please convert your palette to a list. This will become an error in v0.14\n",
            "  ax=sns.barplot(x=labels, y= values, palette=np.array(palette[::-1]), legend=False)\n",
            "C:\\Users\\seoeunl\\AppData\\Local\\Temp\\ipykernel_98036\\2279924813.py:20: UserWarning: The palette list has more values (12) than needed (6), which may not be intended.\n",
            "  ax=sns.barplot(x=labels, y= values, palette=np.array(palette[::-1]), legend=False)\n",
            "C:\\Users\\seoeunl\\AppData\\Local\\Temp\\ipykernel_98036\\2279924813.py:29: UserWarning: set_ticklabels() should only be used with a fixed number of ticks, i.e. after set_ticks() or using a FixedLocator.\n",
            "  ax.set_xticklabels(ax.get_xticklabels(), rotation=30)\n"
          ]
        },
        {
          "data": {
            "image/png": "[encoded data removed]",
            "text/plain": [
              "<Figure size 1000x600 with 1 Axes>"
            ]
          },
          "metadata": {},
          "output_type": "display_data"
        }
      ],
      "source": [
        "import numpy as np\n",
        "import matplotlib.pyplot as plt\n",
        "import seaborn as sns\n",
        "\n",
        "# Data for number of tokens\n",
        "train_dialogue_avg_length = 492\n",
        "train_summary_avg_length = 109\n",
        "validation_dialogue_avg_length = 499\n",
        "validation_summary_avg_length = 110\n",
        "test_dialogue_avg_length = 502\n",
        "test_summary_avg_length = 108\n",
        "\n",
        "# Labels and values\n",
        "labels = ['Train Dialogue', 'Train Summary', 'Validation Dialogue', 'Validation Summary', 'Test Dialogue', 'Test Summary']\n",
        "values = [train_dialogue_avg_length, train_summary_avg_length, validation_dialogue_avg_length, validation_summary_avg_length, test_dialogue_avg_length, test_summary_avg_length]\n",
        "\n",
        "# Plotting\n",
        "palette = sns.color_palette(\"husl\", 12)\n",
        "plt.figure(figsize=(10, 6))\n",
        "ax=sns.barplot(x=labels, y= values, palette=np.array(palette[::-1]), legend=False)\n",
        "ax.set_title(\"Average Token Lengths\")\n",
        "ax.set_xlabel('Data Type')\n",
        "ax.set_ylabel('Avg Token Length')\n",
        "\n",
        "# Adding values on top of bars\n",
        "for i, v in enumerate(values):\n",
        "    ax.text(i, v, str(v), ha='center', va='bottom')\n",
        "\n",
        "ax.set_xticklabels(ax.get_xticklabels(), rotation=30)\n",
        "plt.tight_layout()\n",
        "\n",
        "# Show plot\n",
        "plt.show()"
      ]
    },
    {
      "cell_type": "markdown",
      "metadata": {},
      "source": [
        "# Library imports for text encoding, training"
      ]
    },
    {
      "cell_type": "code",
      "execution_count": 54,
      "metadata": {
        "colab": {
          "base_uri": "https://localhost:8080/"
        },
        "id": "-ynudSMP-Omx",
        "outputId": "44835768-6746-4d2a-be47-88591e0e35da"
      },
      "outputs": [],
      "source": [
        "# !pip install git+https://github.com/PyTorchLightning/pytorch-lightning\n",
        "# !pip install torchtext==0.17.2 pytorch-lightning==2.0.0"
      ]
    },
    {
      "cell_type": "code",
      "execution_count": 55,
      "metadata": {
        "id": "lxmA2HBX-Omx"
      },
      "outputs": [],
      "source": [
        "\n",
        "import pandas as pd\n",
        "import torch\n",
        "from torch.utils.data import Dataset, DataLoader\n",
        "import pytorch_lightning as pl\n",
        "from pytorch_lightning.callbacks import ModelCheckpoint\n",
        "from pytorch_lightning.loggers import TensorBoardLogger\n",
        "\n",
        "from transformers import (\n",
        "    AdamW,\n",
        "    T5ForConditionalGeneration,\n",
        "    T5TokenizerFast as T5Tokenizer\n",
        ")\n",
        "from tqdm.auto import tqdm"
      ]
    },
    {
      "cell_type": "code",
      "execution_count": 56,
      "metadata": {
        "id": "dH7n90iq-Omx"
      },
      "outputs": [],
      "source": [
        "import seaborn as sns\n",
        "from pylab import rcParams\n",
        "import matplotlib.pyplot as plt\n",
        "from matplotlib import rc\n",
        "\n",
        "%matplotlib inline\n",
        "%config InlineBackend.figure_format='retina'\n",
        "sns.set_theme(style='whitegrid', palette='muted', font_scale=1.2)\n",
        "rcParams['figure.figsize']=16,10"
      ]
    },
    {
      "cell_type": "markdown",
      "metadata": {},
      "source": [
        "# Text Encoding - T5"
      ]
    },
    {
      "cell_type": "code",
      "execution_count": 57,
      "metadata": {},
      "outputs": [
        {
          "name": "stderr",
          "output_type": "stream",
          "text": [
            "c:\\Users\\seoeunl\\AppData\\Local\\Programs\\Python\\Python311\\Lib\\site-packages\\huggingface_hub\\file_download.py:1132: FutureWarning: `resume_download` is deprecated and will be removed in version 1.0.0. Downloads always resume when possible. If you want to force a new download, use `force_download=True`.\n",
            "  warnings.warn(\n"
          ]
        }
      ],
      "source": [
        "MODEL_NAME_T5 = 't5-base'\n",
        "tokenizer_T5 = T5Tokenizer.from_pretrained(MODEL_NAME_T5)"
      ]
    },
    {
      "cell_type": "code",
      "execution_count": 58,
      "metadata": {
        "id": "63p2QSiZ-Omx"
      },
      "outputs": [],
      "source": [
        "#creating pytorch dataset\n",
        "class SummaryDatasetT5(Dataset):\n",
        "  def __init__(self, data: pd.DataFrame, tokenizer:T5Tokenizer, text_max_token_len: int = 512, summary_max_token_len: int = 256):\n",
        "    self.tokenizer = tokenizer\n",
        "    self.data = data\n",
        "    self.text_max_token_len = text_max_token_len\n",
        "    self.summary_max_token_len = summary_max_token_len\n",
        "  def __len__(self):\n",
        "    return len(self.data)\n",
        "\n",
        "  def __getitem__(self,index: int):\n",
        "    data_row = self.data.iloc[index]\n",
        "\n",
        "    text = data_row['dialogue']\n",
        "\n",
        "    text_encoding = tokenizer_T5(\n",
        "        text,\n",
        "        max_length=self.text_max_token_len, #max length=512\n",
        "        padding='max_length',\n",
        "        truncation=True,\n",
        "        return_attention_mask = True,\n",
        "        add_special_tokens=True,\n",
        "        return_tensors='pt'\n",
        "    )\n",
        "    summary_encoding = tokenizer_T5(\n",
        "        data_row['summary'],\n",
        "        max_length=self.summary_max_token_len,\n",
        "        padding='max_length',\n",
        "        truncation=True,\n",
        "        return_attention_mask=True,\n",
        "        add_special_tokens=True,\n",
        "        return_tensors='pt'\n",
        "    )\n",
        "\n",
        "    labels = summary_encoding['input_ids']\n",
        "    # Ensure we have correct labels for T5 generation\n",
        "    labels[labels==0] = -100\n",
        "\n",
        "    return dict(\n",
        "        text=text,\n",
        "        summary=data_row['summary'],\n",
        "        text_input_ids=text_encoding['input_ids'].flatten(),\n",
        "        text_attention_mask=text_encoding['attention_mask'].flatten(),\n",
        "        labels=labels.flatten(),\n",
        "        labels_attention_mask=summary_encoding['attention_mask'].flatten()\n",
        "    )"
      ]
    },
    {
      "cell_type": "markdown",
      "metadata": {},
      "source": [
        "# Datamodule creation - T5\n",
        "Contain steps needed for processing data"
      ]
    },
    {
      "cell_type": "code",
      "execution_count": 59,
      "metadata": {
        "id": "_z-nPFFV-Omy"
      },
      "outputs": [],
      "source": [
        "class SummaryDataModuleT5(pl.LightningDataModule):\n",
        "  def __init__(\n",
        "      self,\n",
        "      train_df: pd.DataFrame,\n",
        "      val_df: pd.DataFrame,\n",
        "      test_df: pd.DataFrame,\n",
        "      tokenizer: T5Tokenizer,\n",
        "      batch_size: int = 8,\n",
        "      text_max_token_len: int=512,\n",
        "      summary_max_token_len: int=256\n",
        "  ):\n",
        "      super().__init__()\n",
        "\n",
        "      self.train_df = train_df\n",
        "      self.test_df = test_df\n",
        "      self.val_df = val_df\n",
        "      self.batch_size = batch_size\n",
        "      self.tokenizer = tokenizer\n",
        "      self.text_max_token_len = text_max_token_len\n",
        "      self.summary_max_token_len = summary_max_token_len\n",
        "\n",
        "  def setup(self, stage=None):\n",
        "    self.train_dataset = SummaryDatasetT5(\n",
        "        self.train_df,\n",
        "        self.tokenizer,\n",
        "        self.text_max_token_len,\n",
        "        self.summary_max_token_len\n",
        "    )\n",
        "    self.test_dataset = SummaryDatasetT5(\n",
        "        self.test_df,\n",
        "        self.tokenizer,\n",
        "        self.text_max_token_len,\n",
        "        self.summary_max_token_len\n",
        "    )\n",
        "    self.val_dataset = SummaryDatasetT5(\n",
        "        self.val_df,\n",
        "        self.tokenizer,\n",
        "        self.text_max_token_len,\n",
        "        self.summary_max_token_len\n",
        "    )\n",
        "  def train_dataloader(self):\n",
        "    return DataLoader(\n",
        "        self.train_dataset,\n",
        "        batch_size=self.batch_size,\n",
        "        shuffle=True,\n",
        "        num_workers=0\n",
        "    )\n",
        "  def test_dataloader(self):\n",
        "    return DataLoader(\n",
        "        self.test_dataset,\n",
        "        batch_size=self.batch_size,\n",
        "        shuffle=True,\n",
        "        num_workers=0\n",
        "    )\n",
        "  def val_dataloader(self):\n",
        "    return DataLoader(\n",
        "        self.val_dataset,\n",
        "        batch_size=self.batch_size,\n",
        "        shuffle=True,\n",
        "        num_workers=0\n",
        "    )"
      ]
    },
    {
      "cell_type": "code",
      "execution_count": 60,
      "metadata": {
        "id": "Kg-kgsJW-Omy"
      },
      "outputs": [],
      "source": [
        "text_token_counts, summary_token_counts = [], []\n",
        "\n",
        "for _, row in train_df.iterrows():\n",
        "  text_token_count = len(tokenizer_T5.encode(row['dialogue']))\n",
        "  text_token_counts.append(text_token_count)\n",
        "\n",
        "  summary_token_count = len(tokenizer_T5.encode(row['summary']))\n",
        "  text_token_counts.append(summary_token_count)"
      ]
    },
    {
      "cell_type": "code",
      "execution_count": 61,
      "metadata": {
        "colab": {
          "base_uri": "https://localhost:8080/",
          "height": 880
        },
        "id": "9RU42xna-Omy",
        "outputId": "adfba01a-82af-4005-8868-8feedf26fc65"
      },
      "outputs": [
        {
          "data": {
            "text/plain": [
              "<Axes: >"
            ]
          },
          "execution_count": 61,
          "metadata": {},
          "output_type": "execute_result"
        },
        {
          "data": {
            "image/png": "[encoded data removed]",
            "text/plain": [
              "<Figure size 1600x1000 with 2 Axes>"
            ]
          },
          "metadata": {
            "image/png": {
              "height": 842,
              "width": 1337
            }
          },
          "output_type": "display_data"
        }
      ],
      "source": [
        "fig, (ax1, ax2) = plt.subplots(1,2)\n",
        "sns.histplot(text_token_counts, ax=ax1)\n",
        "ax1.set_title('full text token counts')\n",
        "sns.histplot(summary_token_counts, ax=ax2)"
      ]
    },
    {
      "cell_type": "code",
      "execution_count": 62,
      "metadata": {
        "id": "4Ei4J5Vv-Omy"
      },
      "outputs": [],
      "source": [
        "N_EPOCHS = 8\n",
        "BATCH_SIZE = 8\n",
        "\n",
        "data_module_t5 = SummaryDataModuleT5(train_df, validaiton_df, test_df, tokenizer_T5, batch_size=BATCH_SIZE)"
      ]
    },
    {
      "cell_type": "code",
      "execution_count": 63,
      "metadata": {
        "colab": {
          "base_uri": "https://localhost:8080/"
        },
        "id": "QK3DdA4m-Omy",
        "outputId": "f5f52202-d579-45a3-9901-55d439ae4d1a"
      },
      "outputs": [
        {
          "data": {
            "text/plain": [
              "<__main__.SummaryDataModuleT5 at 0x246ebedbed0>"
            ]
          },
          "execution_count": 63,
          "metadata": {},
          "output_type": "execute_result"
        }
      ],
      "source": [
        "data_module_t5"
      ]
    },
    {
      "cell_type": "markdown",
      "metadata": {
        "id": "Zxh7J3ZI-Omy"
      },
      "source": [
        "# Model Architecture - T5"
      ]
    },
    {
      "cell_type": "code",
      "execution_count": 64,
      "metadata": {
        "id": "68iNQ7iE-Omy"
      },
      "outputs": [],
      "source": [
        "class SummaryT5(pl.LightningModule):\n",
        "  def __init__(self):\n",
        "    super().__init__()\n",
        "    self.model = T5ForConditionalGeneration.from_pretrained(MODEL_NAME_T5, return_dict=True)\n",
        "\n",
        "  def forward(self, input_ids, attention_mask, decoder_attention_mask, labels=None):\n",
        "    # print(\"FORWARD\")\n",
        "    output=self.model(\n",
        "        input_ids,\n",
        "        attention_mask=attention_mask,\n",
        "        labels=labels,\n",
        "        decoder_attention_mask=decoder_attention_mask\n",
        "    )\n",
        "\n",
        "    return output.loss, output.logits\n",
        "\n",
        "  def training_step(self, batch, batch_size):\n",
        "    # print(\"TRAINING\")\n",
        "    input_ids = batch['text_input_ids']\n",
        "    attention_mask = batch['text_attention_mask']\n",
        "    labels = batch['labels']\n",
        "    labels_attention_mask = batch['labels_attention_mask']\n",
        "\n",
        "    loss, outputs = self(\n",
        "        input_ids=input_ids,\n",
        "        attention_mask=attention_mask,\n",
        "        decoder_attention_mask= labels_attention_mask,\n",
        "        labels=labels\n",
        "    )\n",
        "\n",
        "    self.log(\"train_loss\", loss, prog_bar=True, logger=True)\n",
        "    return loss\n",
        "\n",
        "  def validation_step(self, batch, batch_size):\n",
        "    # print(\"VALIDATION\")\n",
        "    input_ids = batch['text_input_ids']\n",
        "    attention_mask = batch['text_attention_mask']\n",
        "    labels = batch['labels']\n",
        "    labels_attention_mask = batch['labels_attention_mask']\n",
        "\n",
        "    loss, outputs = self(\n",
        "        input_ids=input_ids,\n",
        "        attention_mask=attention_mask,\n",
        "        decoder_attention_mask=labels_attention_mask,\n",
        "        labels=labels\n",
        "    )\n",
        "\n",
        "    self.log(\"val_loss\", loss, prog_bar=True, logger=True)\n",
        "    return loss\n",
        "  def test_step(self, batch, batch_size):\n",
        "    # print(\"TEST\")\n",
        "    input_ids = batch['text_input_ids']\n",
        "    attention_mask = batch['text_attention_mask']\n",
        "    labels = batch['labels']\n",
        "    labels_attention_mask = batch['labels_attention_mask']\n",
        "\n",
        "    loss, outputs = self(\n",
        "        input_ids=input_ids,\n",
        "        attention_mask=attention_mask,\n",
        "        decoder_attention_mask=labels_attention_mask,\n",
        "        labels=labels\n",
        "    )\n",
        "\n",
        "    self.log(\"test_loss\", loss, prog_bar=True, logger=True)\n",
        "    return loss\n",
        "\n",
        "  def configure_optimizers(self):\n",
        "      optimizer = torch.optim.AdamW(self.parameters(), lr=2e-5)\n",
        "      return [optimizer]"
      ]
    },
    {
      "cell_type": "code",
      "execution_count": 65,
      "metadata": {
        "colab": {
          "base_uri": "https://localhost:8080/",
          "height": 137,
          "referenced_widgets": [
            "cd8f6e3658e44861b00f05b2e4cdaa31",
            "4e6d1b8bf24d4c6cac68dac50ab82d45",
            "7af996f04cd043eb9a0b1b10c5a8127f",
            "42e5bf9fda124315883a1aca8f57a80f",
            "898ce8c549754a70a462a8bb93e9507f",
            "9f21ba8d373948fca57b12a0a4f41bf5",
            "c43cbebc697c4b51bed3d5666de19db9",
            "91bf2e0edf8c495fa899ab8369718aec",
            "f65006b4a4ad40e6844f7d603be93068",
            "4316eac48cc74655b9baaca8526a1d55",
            "ceb81a3536754f85971af8fc0784d60b",
            "3ac937e34bb44095a672dd21e10e25c9",
            "aea6c97fe7114183bab72c4d24a5c27a",
            "c9733795c2194e798635e109db812627",
            "0488cd8ea10d477ea7ac7201ece6a15d",
            "6d33698680d84c099797f40ea4ba92bc",
            "b94bba80ac324e948820bcc6465a884f",
            "930c2ddcd33c4033b6b1530cb248eb0f",
            "d5793a3c8ca54b4c98fb864d0a82ec09",
            "efc3d6d0034941ac8ccdbd9c0dc29b90",
            "407e19162be745bc9d5fafb0ad93cdaa",
            "11de438738824a72a8b915f0f77295bd"
          ]
        },
        "id": "wJyPqLV_-Om5",
        "outputId": "3b85e21a-878c-4c9a-fcec-951c54c85cef"
      },
      "outputs": [
        {
          "name": "stderr",
          "output_type": "stream",
          "text": [
            "c:\\Users\\seoeunl\\AppData\\Local\\Programs\\Python\\Python311\\Lib\\site-packages\\huggingface_hub\\file_download.py:1132: FutureWarning: `resume_download` is deprecated and will be removed in version 1.0.0. Downloads always resume when possible. If you want to force a new download, use `force_download=True`.\n",
            "  warnings.warn(\n"
          ]
        }
      ],
      "source": [
        "model_T5 = SummaryT5()"
      ]
    },
    {
      "cell_type": "code",
      "execution_count": 66,
      "metadata": {
        "id": "iVgVa2MR-Om5"
      },
      "outputs": [],
      "source": [
        "# %load_ext tensorboard\n",
        "# %tensorboard --logdir lightning_logs/\n",
        "# %reload_ext tensorboard"
      ]
    },
    {
      "cell_type": "code",
      "execution_count": 67,
      "metadata": {
        "id": "Z6OwPDXH-Om6"
      },
      "outputs": [
        {
          "name": "stderr",
          "output_type": "stream",
          "text": [
            "GPU available: True (cuda), used: True\n",
            "TPU available: False, using: 0 TPU cores\n",
            "IPU available: False, using: 0 IPUs\n",
            "HPU available: False, using: 0 HPUs\n"
          ]
        }
      ],
      "source": [
        "checkpoint_callback = ModelCheckpoint(\n",
        "    dirpath='checkpoints',\n",
        "    filename='best-checkpoint',\n",
        "    save_top_k=1,\n",
        "    verbose=True,\n",
        "    monitor='val_loss',\n",
        "    mode='min'\n",
        ")\n",
        "\n",
        "logger = TensorBoardLogger(\"lightning_logs\", name='news-summary')\n",
        "\n",
        "trainer = pl.Trainer(\n",
        "    logger=logger,\n",
        "    callbacks=[checkpoint_callback],\n",
        "    max_epochs=N_EPOCHS,\n",
        ")"
      ]
    },
    {
      "cell_type": "code",
      "execution_count": 68,
      "metadata": {
        "id": "iGk8vwHT-Om6"
      },
      "outputs": [],
      "source": [
        "torch.cuda.empty_cache() #clear any cache"
      ]
    },
    {
      "cell_type": "code",
      "execution_count": 69,
      "metadata": {
        "colab": {
          "base_uri": "https://localhost:8080/"
        },
        "id": "t3_qjVBW-Om6",
        "outputId": "ecbcac1b-783e-40ae-901e-0238ba3482e9"
      },
      "outputs": [
        {
          "data": {
            "text/plain": [
              "96"
            ]
          },
          "execution_count": 69,
          "metadata": {},
          "output_type": "execute_result"
        }
      ],
      "source": [
        "import gc\n",
        "gc.collect() #clear any garbage collector"
      ]
    },
    {
      "cell_type": "markdown",
      "metadata": {},
      "source": [
        "### Training - T5"
      ]
    },
    {
      "cell_type": "code",
      "execution_count": 70,
      "metadata": {
        "colab": {
          "base_uri": "https://localhost:8080/",
          "height": 210,
          "referenced_widgets": [
            "634bb7d6ea324a21981c001baa2b7910",
            "3aa6328ebf21453da870d76703945d4c",
            "f2c0922e2fe94d6db35bb0cf82488b17",
            "f76b0c3b838d42fda131e51490eacbfd",
            "17deb33b10ec43ad8cb8e875f07d1f14",
            "2ec768c3443b4751be26b7abc306cd19",
            "b34cc6d2574644299ee865fdba75eb1f",
            "57b8123e6c794433bfb0c7a8fcc11a72",
            "492bfa34dfd34d3fbde2664b761d4cbd",
            "9113f8d61f464cedbb53c4913ef89dd3",
            "f99880d2962d4126ba73bd30e47a0edd"
          ]
        },
        "id": "0lKDdnYs-Om6",
        "outputId": "ffaa2091-d8ff-4a7a-b56a-fc8367d0fa3d"
      },
      "outputs": [
        {
          "name": "stderr",
          "output_type": "stream",
          "text": [
            "You are using a CUDA device ('NVIDIA GeForce RTX 4070 Laptop GPU') that has Tensor Cores. To properly utilize them, you should set `torch.set_float32_matmul_precision('medium' | 'high')` which will trade-off precision for performance. For more details, read https://pytorch.org/docs/stable/generated/torch.set_float32_matmul_precision.html#torch.set_float32_matmul_precision\n",
            "c:\\Users\\seoeunl\\AppData\\Local\\Programs\\Python\\Python311\\Lib\\site-packages\\pytorch_lightning\\callbacks\\model_checkpoint.py:612: UserWarning: Checkpoint directory checkpoints exists and is not empty.\n",
            "  rank_zero_warn(f\"Checkpoint directory {dirpath} exists and is not empty.\")\n",
            "LOCAL_RANK: 0 - CUDA_VISIBLE_DEVICES: [0]\n",
            "\n",
            "  | Name  | Type                       | Params\n",
            "-----------------------------------------------------\n",
            "0 | model | T5ForConditionalGeneration | 222 M \n",
            "-----------------------------------------------------\n",
            "222 M     Trainable params\n",
            "0         Non-trainable params\n",
            "222 M     Total params\n",
            "891.614   Total estimated model params size (MB)\n"
          ]
        },
        {
          "data": {
            "application/vnd.jupyter.widget-view+json": {
              "model_id": "445fe03ace1244559d4a76406533ce6c",
              "version_major": 2,
              "version_minor": 0
            },
            "text/plain": [
              "Sanity Checking: 0it [00:00, ?it/s]"
            ]
          },
          "metadata": {},
          "output_type": "display_data"
        },
        {
          "name": "stderr",
          "output_type": "stream",
          "text": [
            "c:\\Users\\seoeunl\\AppData\\Local\\Programs\\Python\\Python311\\Lib\\site-packages\\pytorch_lightning\\trainer\\connectors\\data_connector.py:478: PossibleUserWarning: Your `val_dataloader`'s sampler has shuffling enabled, it is strongly recommended that you turn shuffling off for val/test dataloaders.\n",
            "  rank_zero_warn(\n",
            "c:\\Users\\seoeunl\\AppData\\Local\\Programs\\Python\\Python311\\Lib\\site-packages\\pytorch_lightning\\trainer\\connectors\\data_connector.py:430: PossibleUserWarning: The dataloader, val_dataloader, does not have many workers which may be a bottleneck. Consider increasing the value of the `num_workers` argument` (try 20 which is the number of cpus on this machine) in the `DataLoader` init to improve performance.\n",
            "  rank_zero_warn(\n",
            "c:\\Users\\seoeunl\\AppData\\Local\\Programs\\Python\\Python311\\Lib\\site-packages\\pytorch_lightning\\trainer\\connectors\\data_connector.py:430: PossibleUserWarning: The dataloader, train_dataloader, does not have many workers which may be a bottleneck. Consider increasing the value of the `num_workers` argument` (try 20 which is the number of cpus on this machine) in the `DataLoader` init to improve performance.\n",
            "  rank_zero_warn(\n"
          ]
        },
        {
          "data": {
            "application/vnd.jupyter.widget-view+json": {
              "model_id": "f0dc5c8e0a274130986337750ab3ca95",
              "version_major": 2,
              "version_minor": 0
            },
            "text/plain": [
              "Training: 0it [00:00, ?it/s]"
            ]
          },
          "metadata": {},
          "output_type": "display_data"
        },
        {
          "name": "stderr",
          "output_type": "stream",
          "text": [
            "c:\\Users\\seoeunl\\AppData\\Local\\Programs\\Python\\Python311\\Lib\\site-packages\\pytorch_lightning\\trainer\\call.py:54: UserWarning: Detected KeyboardInterrupt, attempting graceful shutdown...\n",
            "  rank_zero_warn(\"Detected KeyboardInterrupt, attempting graceful shutdown...\")\n"
          ]
        }
      ],
      "source": [
        "trainer.fit(model_T5, data_module_t5)"
      ]
    },
    {
      "cell_type": "markdown",
      "metadata": {
        "colab": {
          "base_uri": "https://localhost:8080/",
          "height": 210,
          "referenced_widgets": [
            "634bb7d6ea324a21981c001baa2b7910",
            "3aa6328ebf21453da870d76703945d4c",
            "f2c0922e2fe94d6db35bb0cf82488b17",
            "f76b0c3b838d42fda131e51490eacbfd",
            "17deb33b10ec43ad8cb8e875f07d1f14",
            "2ec768c3443b4751be26b7abc306cd19",
            "b34cc6d2574644299ee865fdba75eb1f",
            "57b8123e6c794433bfb0c7a8fcc11a72",
            "492bfa34dfd34d3fbde2664b761d4cbd",
            "9113f8d61f464cedbb53c4913ef89dd3",
            "f99880d2962d4126ba73bd30e47a0edd"
          ]
        },
        "id": "0lKDdnYs-Om6",
        "outputId": "ffaa2091-d8ff-4a7a-b56a-fc8367d0fa3d"
      },
      "source": [
        "### Save the model"
      ]
    },
    {
      "cell_type": "code",
      "execution_count": null,
      "metadata": {
        "id": "vEsfpokW-Om6"
      },
      "outputs": [],
      "source": [
        "# Additional information\n",
        "PATH = \"\\model_t5.pt\"\n",
        "\n",
        "\n",
        "torch.save({\n",
        "            'epoch': N_EPOCHS,\n",
        "            'model_state_dict': model_T5.state_dict(),\n",
        "            }, PATH)"
      ]
    },
    {
      "cell_type": "code",
      "execution_count": null,
      "metadata": {
        "id": "RA0T_1cA-Om6"
      },
      "outputs": [],
      "source": [
        "\n",
        "trained_model = SummaryT5.load_from_checkpoint(\n",
        "    trainer.checkpoint_callback.best_model_path #load the best model using checkpoint\n",
        ")\n",
        "trained_model.freeze()"
      ]
    },
    {
      "cell_type": "markdown",
      "metadata": {
        "id": "AnbN-1Th-Om6"
      },
      "source": [
        "### Summarize the text"
      ]
    },
    {
      "cell_type": "code",
      "execution_count": null,
      "metadata": {
        "id": "OeIw8jP1-Om6"
      },
      "outputs": [],
      "source": [
        "# summarize the text\n",
        "def summarizeText(text):\n",
        "  text_encoding = tokenizer_T5(\n",
        "      text,\n",
        "      max_length=512,\n",
        "      padding='max_length',\n",
        "      truncation=True,\n",
        "      return_attention_mask=True,\n",
        "      add_special_tokens=True,\n",
        "      return_tensors='pt'\n",
        "  )\n",
        "\n",
        "  generated_ids = trained_model.model.generate(\n",
        "      input_ids=text_encoding['input_ids'],\n",
        "      attention_mask = text_encoding['attention_mask'],\n",
        "      max_length=256, # maximum output text length\n",
        "      num_beams=2, #using beam search\n",
        "      repetition_penalty=2.5,\n",
        "      length_penalty=1.0,\n",
        "      early_stopping=True\n",
        "  )\n",
        "\n",
        "#decoded values\n",
        "  preds_t5 = [\n",
        "      tokenizer_T5.decode(gen_id,skip_special_tokens=True, clean_up_tokenization_spaces=True)\n",
        "      for gen_id in generated_ids\n",
        "  ]\n",
        "  return \"\".join(preds_t5)"
      ]
    },
    {
      "cell_type": "markdown",
      "metadata": {
        "id": "2lD2rbLX-Om6"
      },
      "source": [
        "### Evaluation using Rouge - T5"
      ]
    },
    {
      "cell_type": "code",
      "execution_count": null,
      "metadata": {
        "id": "ZvB56b42-Om6"
      },
      "outputs": [],
      "source": [
        "import evaluate\n",
        "\n",
        "rouge_score = evaluate.load(\"rouge\")"
      ]
    },
    {
      "cell_type": "code",
      "execution_count": null,
      "metadata": {
        "id": "oJthxSUr-Om6"
      },
      "outputs": [],
      "source": [
        "\n",
        "def compute_metrics():\n",
        "    # Compute ROUGE scores\n",
        "    result = rouge_score.compute(predictions=preds_t5, use_stemmer=True)\n",
        "\n",
        "    return {k: round(v, 4) for k, v in result.items()}"
      ]
    },
    {
      "cell_type": "code",
      "execution_count": null,
      "metadata": {
        "id": "0Nj8joWg-Om6"
      },
      "outputs": [],
      "source": [
        "def print_summary():\n",
        "    data = []\n",
        "    for r in range(len(test_df)):\n",
        "        row = test_df.iloc[r]\n",
        "        dia_row = row['dialogue']\n",
        "        sum_row = row['summary'] #actual summary from the dataset\n",
        "        gen_summary = summarizeText(dia_row) #generated summary for article\n",
        "        score = rouge_score.compute(predictions=[gen_summary], references=[sum_row])\n",
        "        scores = {k: round(v, 4) for k, v in score.items()}\n",
        "        data.append([dia_row, sum_row, gen_summary, scores])\n",
        "        print(f\"'>>> Dialogue: {dia_row}'\")\n",
        "        print(f\"\\n'>>> Summary: {sum_row}'\")\n",
        "        print(f\"\\n'>>> Generated Summary: {gen_summary}'\")\n",
        "        print(f\"\\n'>>> ROUGE Score: {scores}'\")\n",
        "    result=pd.DataFrame(data, columns=['dialogues', 'original summary', \"generated summary\", \"score\"])\n",
        "    return result\n"
      ]
    },
    {
      "cell_type": "code",
      "execution_count": null,
      "metadata": {
        "id": "lE6m6HXK-Om6"
      },
      "outputs": [],
      "source": [
        "result_df=print_summary()"
      ]
    },
    {
      "cell_type": "markdown",
      "metadata": {
        "id": "rjuf1nqI-Om7"
      },
      "source": [
        "### Saving the results in a csv file - T5"
      ]
    },
    {
      "cell_type": "code",
      "execution_count": null,
      "metadata": {
        "id": "b0znq1Pt-Om7"
      },
      "outputs": [],
      "source": [
        "# save the results as a csv file\n",
        "pd.DataFrame.from_records(result_df).to_csv('results_t5.csv', header=[\"dialogue\",\"original_summary\",\"generated summary\",\"rouge_score\"], index=False)"
      ]
    },
    {
      "cell_type": "markdown",
      "metadata": {},
      "source": [
        "# Text Encoding - BART"
      ]
    },
    {
      "cell_type": "code",
      "execution_count": null,
      "metadata": {},
      "outputs": [],
      "source": [
        "from transformers import AutoModelForCausalLM, AutoTokenizer, AutoModelForSeq2SeqLM, DataCollatorForSeq2Seq, Seq2SeqTrainingArguments, Seq2SeqTrainer"
      ]
    },
    {
      "cell_type": "code",
      "execution_count": null,
      "metadata": {},
      "outputs": [],
      "source": [
        "model_name_bart = \"facebook/bart-base\"\n",
        "\n",
        "tokenizer_bart = AutoTokenizer.from_pretrained(model_name_bart)\n",
        "# model = BartForConditionalGeneration.from_pretrained(model_name_bart)"
      ]
    },
    {
      "cell_type": "code",
      "execution_count": null,
      "metadata": {},
      "outputs": [],
      "source": [
        "#creating pytorch dataset\n",
        "class SummaryDatasetBart(Dataset):\n",
        "  def __init__(self, data: pd.DataFrame, tokenizer:AutoTokenizer, text_max_token_len: int = 1024, summary_max_token_len: int = 256):\n",
        "    self.tokenizer = tokenizer\n",
        "    self.data = data\n",
        "    self.text_max_token_len = text_max_token_len\n",
        "    self.summary_max_token_len = summary_max_token_len\n",
        "  def __len__(self):\n",
        "    return len(self.data)\n",
        "\n",
        "  def __getitem__(self,index: int):\n",
        "    data_row = self.data.iloc[index]\n",
        "\n",
        "    text = data_row['dialogue']\n",
        "\n",
        "    text_encoding = tokenizer_bart(\n",
        "        text,\n",
        "        max_length=self.text_max_token_len, #max length=512\n",
        "        padding='max_length',\n",
        "        truncation=True,\n",
        "        return_attention_mask = True,\n",
        "        add_special_tokens=True,\n",
        "        return_tensors='pt'\n",
        "    )\n",
        "    summary_encoding = tokenizer_bart(\n",
        "        data_row['summary'],\n",
        "        max_length=self.summary_max_token_len,\n",
        "        padding='max_length',\n",
        "        truncation=True,\n",
        "        return_attention_mask=True,\n",
        "        add_special_tokens=True,\n",
        "        return_tensors='pt'\n",
        "    )\n",
        "\n",
        "    labels = summary_encoding['input_ids']\n",
        "\n",
        "    return dict(\n",
        "        text=text,\n",
        "        summary=data_row['summary'],\n",
        "        text_input_ids=text_encoding['input_ids'].flatten(),\n",
        "        text_attention_mask=text_encoding['attention_mask'].flatten(),\n",
        "        labels=labels.flatten(),\n",
        "        labels_attention_mask=summary_encoding['attention_mask'].flatten()\n",
        "    )"
      ]
    },
    {
      "cell_type": "markdown",
      "metadata": {},
      "source": [
        "# Datamodule creation - BART\n",
        "Contain steps needed for processing data"
      ]
    },
    {
      "cell_type": "code",
      "execution_count": null,
      "metadata": {},
      "outputs": [],
      "source": [
        "class SummaryDataModuleBart(pl.LightningDataModule):\n",
        "  def __init__(\n",
        "      self,\n",
        "      train_df: pd.DataFrame,\n",
        "      val_df: pd.DataFrame,\n",
        "      test_df: pd.DataFrame,\n",
        "      tokenizer: AutoTokenizer,\n",
        "      batch_size: int = 0,\n",
        "      text_max_token_len: int=512,\n",
        "      summary_max_token_len: int=256\n",
        "  ):\n",
        "      super().__init__()\n",
        "\n",
        "      self.train_df = train_df\n",
        "      self.val_df = val_df\n",
        "      self.test_df = test_df\n",
        "      self.batch_size = batch_size\n",
        "      self.tokenizer = tokenizer\n",
        "      self.text_max_token_len = text_max_token_len\n",
        "      self.summary_max_token_len = summary_max_token_len\n",
        "\n",
        "  def setup(self, stage=None):\n",
        "    self.train_dataset = SummaryDatasetBart(\n",
        "        self.train_df,\n",
        "        self.tokenizer,\n",
        "        self.text_max_token_len,\n",
        "        self.summary_max_token_len\n",
        "    )\n",
        "    self.test_dataset = SummaryDatasetBart(\n",
        "        self.test_df,\n",
        "        self.tokenizer,\n",
        "        self.text_max_token_len,\n",
        "        self.summary_max_token_len\n",
        "    )\n",
        "    self.val_dataset = SummaryDatasetBart(\n",
        "        self.val_df,\n",
        "        self.tokenizer,\n",
        "        self.text_max_token_len,\n",
        "        self.summary_max_token_len\n",
        "    )\n",
        "  def train_dataloader(self):\n",
        "    return DataLoader(\n",
        "        self.train_dataset,\n",
        "        batch_size=self.batch_size,\n",
        "        shuffle=True,\n",
        "        num_workers=0\n",
        "    )\n",
        "  def test_dataloader(self):\n",
        "    return DataLoader(\n",
        "        self.test_dataset,\n",
        "        batch_size=self.batch_size,\n",
        "        shuffle=True,\n",
        "        num_workers=0\n",
        "    )\n",
        "  def val_dataloader(self):\n",
        "    return DataLoader(\n",
        "        self.val_dataset,\n",
        "        batch_size=self.batch_size,\n",
        "        shuffle=True,\n",
        "        num_workers=0\n",
        "    )"
      ]
    },
    {
      "cell_type": "code",
      "execution_count": null,
      "metadata": {},
      "outputs": [],
      "source": [
        "text_token_counts, summary_token_counts = [], []\n",
        "\n",
        "for _, row in train_df.iterrows():\n",
        "  text_token_count = len(tokenizer_bart.encode(row['dialogue']))\n",
        "  text_token_counts.append(text_token_count)\n",
        "\n",
        "  summary_token_count = len(tokenizer_bart.encode(row['summary']))\n",
        "  text_token_counts.append(summary_token_count)"
      ]
    },
    {
      "cell_type": "code",
      "execution_count": null,
      "metadata": {},
      "outputs": [
        {
          "data": {
            "text/plain": [
              "<Axes: >"
            ]
          },
          "execution_count": 85,
          "metadata": {},
          "output_type": "execute_result"
        },
        {
          "data": {
            "image/png": "[encoded data removed]",
            "text/plain": [
              "<Figure size 1600x1000 with 2 Axes>"
            ]
          },
          "metadata": {
            "image/png": {
              "height": 842,
              "width": 1337
            }
          },
          "output_type": "display_data"
        }
      ],
      "source": [
        "fig, (ax1, ax2) = plt.subplots(1,2)\n",
        "sns.histplot(text_token_counts, ax=ax1)\n",
        "ax1.set_title('full text token counts')\n",
        "sns.histplot(summary_token_counts, ax=ax2)"
      ]
    },
    {
      "cell_type": "code",
      "execution_count": null,
      "metadata": {},
      "outputs": [],
      "source": [
        "N_EPOCHS = 8\n",
        "BATCH_SIZE = 8\n",
        "\n",
        "data_module_bart = SummaryDataModuleBart(train_df, validation_df, test_df,  tokenizer_bart, batch_size=BATCH_SIZE)"
      ]
    },
    {
      "cell_type": "markdown",
      "metadata": {},
      "source": [
        "# Model - BART"
      ]
    },
    {
      "cell_type": "code",
      "execution_count": null,
      "metadata": {},
      "outputs": [],
      "source": [
        "class SummaryModelBart(pl.LightningModule):\n",
        "  def __init__(self):\n",
        "    super().__init__()\n",
        "    self.model = AutoModelForSeq2SeqLM.from_pretrained(model_name_bart, return_dict=True)\n",
        "  \n",
        "  def forward(self, input_ids, attention_mask, decoder_attention_mask, labels=None):\n",
        "    # print(\"FORWARD\")\n",
        "    output=self.model(\n",
        "        input_ids,\n",
        "        attention_mask=attention_mask,\n",
        "        labels=labels,\n",
        "        decoder_attention_mask=decoder_attention_mask\n",
        "    )\n",
        "  \n",
        "    return output.loss, output.logits\n",
        "\n",
        "  def training_step(self, batch, batch_size):\n",
        "    # print(\"TRAINING\")\n",
        "    input_ids = batch['text_input_ids']\n",
        "    attention_mask = batch['text_attention_mask']\n",
        "    labels = batch['labels']\n",
        "    labels_attention_mask = batch['labels_attention_mask']\n",
        "\n",
        "    loss, outputs = self(\n",
        "        input_ids=input_ids,\n",
        "        attention_mask=attention_mask,\n",
        "        decoder_attention_mask= labels_attention_mask,\n",
        "        labels=labels\n",
        "    )\n",
        "\n",
        "    self.log(\"train_loss\", loss, prog_bar=True, logger=True)\n",
        "    return loss\n",
        "\n",
        "  def validation_step(self, batch, batch_size):\n",
        "    # print(\"VALIDATION\")\n",
        "    input_ids = batch['text_input_ids']\n",
        "    attention_mask = batch['text_attention_mask']\n",
        "    labels = batch['labels']\n",
        "    labels_attention_mask = batch['labels_attention_mask']\n",
        "\n",
        "    loss, outputs = self(\n",
        "        input_ids=input_ids,\n",
        "        attention_mask=attention_mask,\n",
        "        decoder_attention_mask=labels_attention_mask,\n",
        "        labels=labels\n",
        "    )\n",
        "\n",
        "    self.log(\"val_loss\", loss, prog_bar=True, logger=True)\n",
        "    return loss\n",
        "  def test_step(self, batch, batch_size):\n",
        "    # print(\"TEST\")\n",
        "    input_ids = batch['text_input_ids']\n",
        "    attention_mask = batch['text_attention_mask']\n",
        "    labels = batch['labels']\n",
        "    labels_attention_mask = batch['labels_attention_mask']\n",
        "\n",
        "    loss, outputs = self(\n",
        "        input_ids=input_ids,\n",
        "        attention_mask=attention_mask,\n",
        "        decoder_attention_mask=labels_attention_mask,\n",
        "        labels=labels\n",
        "    )\n",
        "\n",
        "    self.log(\"test_loss\", loss, prog_bar=True, logger=True)\n",
        "    return loss\n",
        "  \n",
        "  def configure_optimizers(self):\n",
        "    optimizer = torch.optim.Adam(self.parameters(), lr=2e-5)\n",
        "    return [optimizer]"
      ]
    },
    {
      "cell_type": "code",
      "execution_count": null,
      "metadata": {},
      "outputs": [
        {
          "name": "stderr",
          "output_type": "stream",
          "text": [
            "c:\\Users\\seoeunl\\AppData\\Local\\Programs\\Python\\Python311\\Lib\\site-packages\\huggingface_hub\\file_download.py:1132: FutureWarning: `resume_download` is deprecated and will be removed in version 1.0.0. Downloads always resume when possible. If you want to force a new download, use `force_download=True`.\n",
            "  warnings.warn(\n"
          ]
        }
      ],
      "source": [
        "model_bart = SummaryModelBart()"
      ]
    },
    {
      "cell_type": "code",
      "execution_count": null,
      "metadata": {},
      "outputs": [
        {
          "name": "stderr",
          "output_type": "stream",
          "text": [
            "GPU available: True (cuda), used: True\n",
            "TPU available: False, using: 0 TPU cores\n",
            "IPU available: False, using: 0 IPUs\n",
            "HPU available: False, using: 0 HPUs\n"
          ]
        }
      ],
      "source": [
        "checkpoint_callback = ModelCheckpoint(\n",
        "    dirpath='checkpoints',\n",
        "    filename='best-checkpoint',\n",
        "    save_top_k=1,\n",
        "    verbose=True,\n",
        "    monitor='val_loss',\n",
        "    mode='min'\n",
        ")\n",
        "\n",
        "logger = TensorBoardLogger(\"lightning_logs\", name='news-summary')\n",
        "\n",
        "trainer = pl.Trainer(\n",
        "    logger=logger,\n",
        "    # checkpoint_callback=checkpoint_callback,\n",
        "    max_epochs=N_EPOCHS,\n",
        "\n",
        ")"
      ]
    },
    {
      "cell_type": "code",
      "execution_count": null,
      "metadata": {},
      "outputs": [],
      "source": [
        "torch.cuda.empty_cache() #clear any cache"
      ]
    },
    {
      "cell_type": "code",
      "execution_count": null,
      "metadata": {},
      "outputs": [
        {
          "data": {
            "text/plain": [
              "96"
            ]
          },
          "execution_count": 91,
          "metadata": {},
          "output_type": "execute_result"
        }
      ],
      "source": [
        "import gc\n",
        "gc.collect() #clear any garbage collector"
      ]
    },
    {
      "cell_type": "code",
      "execution_count": null,
      "metadata": {},
      "outputs": [
        {
          "name": "stderr",
          "output_type": "stream",
          "text": [
            "You are using a CUDA device ('NVIDIA GeForce RTX 4070 Laptop GPU') that has Tensor Cores. To properly utilize them, you should set `torch.set_float32_matmul_precision('medium' | 'high')` which will trade-off precision for performance. For more details, read https://pytorch.org/docs/stable/generated/torch.set_float32_matmul_precision.html#torch.set_float32_matmul_precision\n",
            "LOCAL_RANK: 0 - CUDA_VISIBLE_DEVICES: [0]\n",
            "\n",
            "  | Name  | Type                         | Params\n",
            "-------------------------------------------------------\n",
            "0 | model | BartForConditionalGeneration | 139 M \n",
            "-------------------------------------------------------\n",
            "139 M     Trainable params\n",
            "0         Non-trainable params\n",
            "139 M     Total params\n",
            "557.682   Total estimated model params size (MB)\n"
          ]
        },
        {
          "data": {
            "application/vnd.jupyter.widget-view+json": {
              "model_id": "e6f00ecd18c74c409d4bbd7e24d2313e",
              "version_major": 2,
              "version_minor": 0
            },
            "text/plain": [
              "Sanity Checking: 0it [00:00, ?it/s]"
            ]
          },
          "metadata": {},
          "output_type": "display_data"
        },
        {
          "name": "stderr",
          "output_type": "stream",
          "text": [
            "c:\\Users\\seoeunl\\AppData\\Local\\Programs\\Python\\Python311\\Lib\\site-packages\\pytorch_lightning\\trainer\\connectors\\data_connector.py:478: PossibleUserWarning: Your `val_dataloader`'s sampler has shuffling enabled, it is strongly recommended that you turn shuffling off for val/test dataloaders.\n",
            "  rank_zero_warn(\n",
            "c:\\Users\\seoeunl\\AppData\\Local\\Programs\\Python\\Python311\\Lib\\site-packages\\pytorch_lightning\\trainer\\connectors\\data_connector.py:430: PossibleUserWarning: The dataloader, val_dataloader, does not have many workers which may be a bottleneck. Consider increasing the value of the `num_workers` argument` (try 20 which is the number of cpus on this machine) in the `DataLoader` init to improve performance.\n",
            "  rank_zero_warn(\n",
            "c:\\Users\\seoeunl\\AppData\\Local\\Programs\\Python\\Python311\\Lib\\site-packages\\transformers\\models\\bart\\modeling_bart.py:590: UserWarning: 1Torch was not compiled with flash attention. (Triggered internally at ..\\aten\\src\\ATen\\native\\transformers\\cuda\\sdp_utils.cpp:263.)\n",
            "  attn_output = torch.nn.functional.scaled_dot_product_attention(\n",
            "c:\\Users\\seoeunl\\AppData\\Local\\Programs\\Python\\Python311\\Lib\\site-packages\\pytorch_lightning\\trainer\\connectors\\data_connector.py:430: PossibleUserWarning: The dataloader, train_dataloader, does not have many workers which may be a bottleneck. Consider increasing the value of the `num_workers` argument` (try 20 which is the number of cpus on this machine) in the `DataLoader` init to improve performance.\n",
            "  rank_zero_warn(\n"
          ]
        },
        {
          "data": {
            "application/vnd.jupyter.widget-view+json": {
              "model_id": "43bb596a41ff497ca260640eee1c1cc3",
              "version_major": 2,
              "version_minor": 0
            },
            "text/plain": [
              "Training: 0it [00:00, ?it/s]"
            ]
          },
          "metadata": {},
          "output_type": "display_data"
        },
        {
          "name": "stderr",
          "output_type": "stream",
          "text": [
            "c:\\Users\\seoeunl\\AppData\\Local\\Programs\\Python\\Python311\\Lib\\site-packages\\pytorch_lightning\\trainer\\call.py:54: UserWarning: Detected KeyboardInterrupt, attempting graceful shutdown...\n",
            "  rank_zero_warn(\"Detected KeyboardInterrupt, attempting graceful shutdown...\")\n"
          ]
        }
      ],
      "source": [
        "# with torch.no_grad():\n",
        "trainer.fit(model_bart, data_module_bart)"
      ]
    },
    {
      "cell_type": "code",
      "execution_count": null,
      "metadata": {},
      "outputs": [],
      "source": [
        "PATH = \"\\model_bart.pt\"\n",
        "\n",
        "torch.save({\n",
        "            'epoch': N_EPOCHS,\n",
        "            'model_state_dict': model_bart.state_dict(),\n",
        "            }, PATH)"
      ]
    },
    {
      "cell_type": "code",
      "execution_count": null,
      "metadata": {},
      "outputs": [],
      "source": [
        "trained_model = SummaryModelBart.load_from_checkpoint(\n",
        "    trainer.checkpoint_callback.best_model_path #load the best model using checkpoint\n",
        ")\n",
        "trained_model.freeze()"
      ]
    },
    {
      "cell_type": "code",
      "execution_count": null,
      "metadata": {},
      "outputs": [],
      "source": [
        "# summarize the text\n",
        "def summarizeText(text):\n",
        "  text_encoding = tokenizer_bart(\n",
        "      text,\n",
        "      max_length=512,\n",
        "      padding='max_length',\n",
        "      truncation=True,\n",
        "      return_attention_mask=True,\n",
        "      add_special_tokens=True,\n",
        "      return_tensors='pt'\n",
        "  )\n",
        "\n",
        "  generated_ids = trained_model.model.generate(\n",
        "      input_ids=text_encoding['input_ids'],\n",
        "      attention_mask = text_encoding['attention_mask'],\n",
        "      max_length=256, # maximum output text length\n",
        "      num_beams=2, #using beam search\n",
        "      repetition_penalty=2.5,\n",
        "      length_penalty=1.0,\n",
        "      early_stopping=True\n",
        "  )\n",
        "\n",
        "#decoded values\n",
        "  preds_bart = [\n",
        "      tokenizer_bart.decode(gen_id,skip_special_tokens=True, clean_up_tokenization_spaces=True)\n",
        "      for gen_id in generated_ids\n",
        "  ]\n",
        "  return \"\".join(preds_bart)"
      ]
    },
    {
      "cell_type": "markdown",
      "metadata": {},
      "source": [
        "# Evaluation using Rouge - BART"
      ]
    },
    {
      "cell_type": "code",
      "execution_count": null,
      "metadata": {},
      "outputs": [],
      "source": [
        "def compute_metrics():\n",
        "    result = rouge_score.compute(predictions=model_bart, use_stemmer=True)\n",
        "    \n",
        "    return {k: round(v, 4) for k, v in result.items()}"
      ]
    },
    {
      "cell_type": "code",
      "execution_count": null,
      "metadata": {},
      "outputs": [],
      "source": [
        "def print_summary():\n",
        "    data = []\n",
        "    for r in range(len(test_df)):\n",
        "        row = test_df.iloc[r]\n",
        "        dia_row = row['dialogue']\n",
        "        sum_row = row['summary'] #actual summary from the dataset\n",
        "        gen_summary = summarizeText(dia_row) #generated summary for article\n",
        "        score = rouge_score.compute(predictions=[gen_summary], references=[sum_row])\n",
        "        scores = {k: round(v, 4) for k, v in score.items()}\n",
        "        data.append([dia_row, sum_row, gen_summary, scores])\n",
        "        print(f\"'>>> Dialogue: {dia_row}'\")\n",
        "        print(f\"\\n'>>> Summary: {sum_row}'\")\n",
        "        print(f\"\\n'>>> Generated Summary: {gen_summary}'\")\n",
        "        print(f\"\\n'>>> ROUGE Score: {scores}'\")\n",
        "    result=pd.DataFrame(data, columns=['dialogues', 'original summary', \"generated summary\", \"score\"])\n",
        "    return result"
      ]
    },
    {
      "cell_type": "code",
      "execution_count": null,
      "metadata": {},
      "outputs": [],
      "source": [
        "result_bart = print_summary()"
      ]
    },
    {
      "cell_type": "code",
      "execution_count": null,
      "metadata": {},
      "outputs": [],
      "source": [
        "pd.DataFrame.from_records(result_bart).to_csv('results_bart.csv', header=[\"article\",\"original_summary\",\"generated summary\",\"rouge_score\"], index=False)"
      ]
    }
  ],
  "metadata": {
    "colab": {
      "provenance": []
    },
    "kernelspec": {
      "display_name": "Python 3",
      "name": "python3"
    },
    "language_info": {
      "codemirror_mode": {
        "name": "ipython",
        "version": 3
      },
      "file_extension": ".py",
      "mimetype": "text/x-python",
      "name": "python",
      "nbconvert_exporter": "python",
      "pygments_lexer": "ipython3",
      "version": "3.11.5"
    },
    "widgets": {
      "application/vnd.jupyter.widget-state+json": {
        "0488cd8ea10d477ea7ac7201ece6a15d": {
          "model_module": "@jupyter-widgets/controls",
          "model_module_version": "1.5.0",
          "model_name": "HTMLModel",
          "state": {
            "_dom_classes": [],
            "_model_module": "@jupyter-widgets/controls",
            "_model_module_version": "1.5.0",
            "_model_name": "HTMLModel",
            "_view_count": null,
            "_view_module": "@jupyter-widgets/controls",
            "_view_module_version": "1.5.0",
            "_view_name": "HTMLView",
            "description": "",
            "description_tooltip": null,
            "layout": "IPY_MODEL_407e19162be745bc9d5fafb0ad93cdaa",
            "placeholder": "​",
            "style": "IPY_MODEL_11de438738824a72a8b915f0f77295bd",
            "value": " 147/147 [00:00&lt;00:00, 7.66kB/s]"
          }
        },
        "0d3d39dbee264fd8a43d7b85cbf56fe6": {
          "model_module": "@jupyter-widgets/base",
          "model_module_version": "1.2.0",
          "model_name": "LayoutModel",
          "state": {
            "_model_module": "@jupyter-widgets/base",
            "_model_module_version": "1.2.0",
            "_model_name": "LayoutModel",
            "_view_count": null,
            "_view_module": "@jupyter-widgets/base",
            "_view_module_version": "1.2.0",
            "_view_name": "LayoutView",
            "align_content": null,
            "align_items": null,
            "align_self": null,
            "border": null,
            "bottom": null,
            "display": null,
            "flex": null,
            "flex_flow": null,
            "grid_area": null,
            "grid_auto_columns": null,
            "grid_auto_flow": null,
            "grid_auto_rows": null,
            "grid_column": null,
            "grid_gap": null,
            "grid_row": null,
            "grid_template_areas": null,
            "grid_template_columns": null,
            "grid_template_rows": null,
            "height": null,
            "justify_content": null,
            "justify_items": null,
            "left": null,
            "margin": null,
            "max_height": null,
            "max_width": null,
            "min_height": null,
            "min_width": null,
            "object_fit": null,
            "object_position": null,
            "order": null,
            "overflow": null,
            "overflow_x": null,
            "overflow_y": null,
            "padding": null,
            "right": null,
            "top": null,
            "visibility": null,
            "width": null
          }
        },
        "0f0b54112fd24e43a3abb50eea78c025": {
          "model_module": "@jupyter-widgets/base",
          "model_module_version": "1.2.0",
          "model_name": "LayoutModel",
          "state": {
            "_model_module": "@jupyter-widgets/base",
            "_model_module_version": "1.2.0",
            "_model_name": "LayoutModel",
            "_view_count": null,
            "_view_module": "@jupyter-widgets/base",
            "_view_module_version": "1.2.0",
            "_view_name": "LayoutView",
            "align_content": null,
            "align_items": null,
            "align_self": null,
            "border": null,
            "bottom": null,
            "display": null,
            "flex": null,
            "flex_flow": null,
            "grid_area": null,
            "grid_auto_columns": null,
            "grid_auto_flow": null,
            "grid_auto_rows": null,
            "grid_column": null,
            "grid_gap": null,
            "grid_row": null,
            "grid_template_areas": null,
            "grid_template_columns": null,
            "grid_template_rows": null,
            "height": null,
            "justify_content": null,
            "justify_items": null,
            "left": null,
            "margin": null,
            "max_height": null,
            "max_width": null,
            "min_height": null,
            "min_width": null,
            "object_fit": null,
            "object_position": null,
            "order": null,
            "overflow": null,
            "overflow_x": null,
            "overflow_y": null,
            "padding": null,
            "right": null,
            "top": null,
            "visibility": null,
            "width": null
          }
        },
        "11de438738824a72a8b915f0f77295bd": {
          "model_module": "@jupyter-widgets/controls",
          "model_module_version": "1.5.0",
          "model_name": "DescriptionStyleModel",
          "state": {
            "_model_module": "@jupyter-widgets/controls",
            "_model_module_version": "1.5.0",
            "_model_name": "DescriptionStyleModel",
            "_view_count": null,
            "_view_module": "@jupyter-widgets/base",
            "_view_module_version": "1.2.0",
            "_view_name": "StyleView",
            "description_width": ""
          }
        },
        "17deb33b10ec43ad8cb8e875f07d1f14": {
          "model_module": "@jupyter-widgets/base",
          "model_module_version": "1.2.0",
          "model_name": "LayoutModel",
          "state": {
            "_model_module": "@jupyter-widgets/base",
            "_model_module_version": "1.2.0",
            "_model_name": "LayoutModel",
            "_view_count": null,
            "_view_module": "@jupyter-widgets/base",
            "_view_module_version": "1.2.0",
            "_view_name": "LayoutView",
            "align_content": null,
            "align_items": null,
            "align_self": null,
            "border": null,
            "bottom": null,
            "display": "inline-flex",
            "flex": null,
            "flex_flow": "row wrap",
            "grid_area": null,
            "grid_auto_columns": null,
            "grid_auto_flow": null,
            "grid_auto_rows": null,
            "grid_column": null,
            "grid_gap": null,
            "grid_row": null,
            "grid_template_areas": null,
            "grid_template_columns": null,
            "grid_template_rows": null,
            "height": null,
            "justify_content": null,
            "justify_items": null,
            "left": null,
            "margin": null,
            "max_height": null,
            "max_width": null,
            "min_height": null,
            "min_width": null,
            "object_fit": null,
            "object_position": null,
            "order": null,
            "overflow": null,
            "overflow_x": null,
            "overflow_y": null,
            "padding": null,
            "right": null,
            "top": null,
            "visibility": null,
            "width": "100%"
          }
        },
        "295dcfd6606143178fc424209b1de9be": {
          "model_module": "@jupyter-widgets/controls",
          "model_module_version": "1.5.0",
          "model_name": "HBoxModel",
          "state": {
            "_dom_classes": [],
            "_model_module": "@jupyter-widgets/controls",
            "_model_module_version": "1.5.0",
            "_model_name": "HBoxModel",
            "_view_count": null,
            "_view_module": "@jupyter-widgets/controls",
            "_view_module_version": "1.5.0",
            "_view_name": "HBoxView",
            "box_style": "",
            "children": [
              "IPY_MODEL_c3cb25df039146d4b1741b36f3c3d5dd",
              "IPY_MODEL_5e694782217c404fb62de91487cd5db9",
              "IPY_MODEL_488bbd8352474030bcab56babd8153ce"
            ],
            "layout": "IPY_MODEL_6fa852c84d3246c9b6435ead5cb0f428"
          }
        },
        "2ec768c3443b4751be26b7abc306cd19": {
          "model_module": "@jupyter-widgets/base",
          "model_module_version": "1.2.0",
          "model_name": "LayoutModel",
          "state": {
            "_model_module": "@jupyter-widgets/base",
            "_model_module_version": "1.2.0",
            "_model_name": "LayoutModel",
            "_view_count": null,
            "_view_module": "@jupyter-widgets/base",
            "_view_module_version": "1.2.0",
            "_view_name": "LayoutView",
            "align_content": null,
            "align_items": null,
            "align_self": null,
            "border": null,
            "bottom": null,
            "display": null,
            "flex": null,
            "flex_flow": null,
            "grid_area": null,
            "grid_auto_columns": null,
            "grid_auto_flow": null,
            "grid_auto_rows": null,
            "grid_column": null,
            "grid_gap": null,
            "grid_row": null,
            "grid_template_areas": null,
            "grid_template_columns": null,
            "grid_template_rows": null,
            "height": null,
            "justify_content": null,
            "justify_items": null,
            "left": null,
            "margin": null,
            "max_height": null,
            "max_width": null,
            "min_height": null,
            "min_width": null,
            "object_fit": null,
            "object_position": null,
            "order": null,
            "overflow": null,
            "overflow_x": null,
            "overflow_y": null,
            "padding": null,
            "right": null,
            "top": null,
            "visibility": null,
            "width": null
          }
        },
        "3152ed4e5a4841378f55002e04e2b265": {
          "model_module": "@jupyter-widgets/base",
          "model_module_version": "1.2.0",
          "model_name": "LayoutModel",
          "state": {
            "_model_module": "@jupyter-widgets/base",
            "_model_module_version": "1.2.0",
            "_model_name": "LayoutModel",
            "_view_count": null,
            "_view_module": "@jupyter-widgets/base",
            "_view_module_version": "1.2.0",
            "_view_name": "LayoutView",
            "align_content": null,
            "align_items": null,
            "align_self": null,
            "border": null,
            "bottom": null,
            "display": null,
            "flex": null,
            "flex_flow": null,
            "grid_area": null,
            "grid_auto_columns": null,
            "grid_auto_flow": null,
            "grid_auto_rows": null,
            "grid_column": null,
            "grid_gap": null,
            "grid_row": null,
            "grid_template_areas": null,
            "grid_template_columns": null,
            "grid_template_rows": null,
            "height": null,
            "justify_content": null,
            "justify_items": null,
            "left": null,
            "margin": null,
            "max_height": null,
            "max_width": null,
            "min_height": null,
            "min_width": null,
            "object_fit": null,
            "object_position": null,
            "order": null,
            "overflow": null,
            "overflow_x": null,
            "overflow_y": null,
            "padding": null,
            "right": null,
            "top": null,
            "visibility": null,
            "width": null
          }
        },
        "37a80b8ab0ac439690231a48b5f23175": {
          "model_module": "@jupyter-widgets/controls",
          "model_module_version": "1.5.0",
          "model_name": "HTMLModel",
          "state": {
            "_dom_classes": [],
            "_model_module": "@jupyter-widgets/controls",
            "_model_module_version": "1.5.0",
            "_model_name": "HTMLModel",
            "_view_count": null,
            "_view_module": "@jupyter-widgets/controls",
            "_view_module_version": "1.5.0",
            "_view_name": "HTMLView",
            "description": "",
            "description_tooltip": null,
            "layout": "IPY_MODEL_411fe396306241028b066a8c74962584",
            "placeholder": "​",
            "style": "IPY_MODEL_aff1eb7059ab4a8492be736cc7925c30",
            "value": " 1.39M/1.39M [00:01&lt;00:00, 1.09MB/s]"
          }
        },
        "3aa6328ebf21453da870d76703945d4c": {
          "model_module": "@jupyter-widgets/controls",
          "model_module_version": "1.5.0",
          "model_name": "HTMLModel",
          "state": {
            "_dom_classes": [],
            "_model_module": "@jupyter-widgets/controls",
            "_model_module_version": "1.5.0",
            "_model_name": "HTMLModel",
            "_view_count": null,
            "_view_module": "@jupyter-widgets/controls",
            "_view_module_version": "1.5.0",
            "_view_name": "HTMLView",
            "description": "",
            "description_tooltip": null,
            "layout": "IPY_MODEL_2ec768c3443b4751be26b7abc306cd19",
            "placeholder": "​",
            "style": "IPY_MODEL_b34cc6d2574644299ee865fdba75eb1f",
            "value": "Sanity Checking: "
          }
        },
        "3ac937e34bb44095a672dd21e10e25c9": {
          "model_module": "@jupyter-widgets/controls",
          "model_module_version": "1.5.0",
          "model_name": "HBoxModel",
          "state": {
            "_dom_classes": [],
            "_model_module": "@jupyter-widgets/controls",
            "_model_module_version": "1.5.0",
            "_model_name": "HBoxModel",
            "_view_count": null,
            "_view_module": "@jupyter-widgets/controls",
            "_view_module_version": "1.5.0",
            "_view_name": "HBoxView",
            "box_style": "",
            "children": [
              "IPY_MODEL_aea6c97fe7114183bab72c4d24a5c27a",
              "IPY_MODEL_c9733795c2194e798635e109db812627",
              "IPY_MODEL_0488cd8ea10d477ea7ac7201ece6a15d"
            ],
            "layout": "IPY_MODEL_6d33698680d84c099797f40ea4ba92bc"
          }
        },
        "3ebde9ca0c3b4070bc18e0e77831fb2e": {
          "model_module": "@jupyter-widgets/controls",
          "model_module_version": "1.5.0",
          "model_name": "DescriptionStyleModel",
          "state": {
            "_model_module": "@jupyter-widgets/controls",
            "_model_module_version": "1.5.0",
            "_model_name": "DescriptionStyleModel",
            "_view_count": null,
            "_view_module": "@jupyter-widgets/base",
            "_view_module_version": "1.2.0",
            "_view_name": "StyleView",
            "description_width": ""
          }
        },
        "407e19162be745bc9d5fafb0ad93cdaa": {
          "model_module": "@jupyter-widgets/base",
          "model_module_version": "1.2.0",
          "model_name": "LayoutModel",
          "state": {
            "_model_module": "@jupyter-widgets/base",
            "_model_module_version": "1.2.0",
            "_model_name": "LayoutModel",
            "_view_count": null,
            "_view_module": "@jupyter-widgets/base",
            "_view_module_version": "1.2.0",
            "_view_name": "LayoutView",
            "align_content": null,
            "align_items": null,
            "align_self": null,
            "border": null,
            "bottom": null,
            "display": null,
            "flex": null,
            "flex_flow": null,
            "grid_area": null,
            "grid_auto_columns": null,
            "grid_auto_flow": null,
            "grid_auto_rows": null,
            "grid_column": null,
            "grid_gap": null,
            "grid_row": null,
            "grid_template_areas": null,
            "grid_template_columns": null,
            "grid_template_rows": null,
            "height": null,
            "justify_content": null,
            "justify_items": null,
            "left": null,
            "margin": null,
            "max_height": null,
            "max_width": null,
            "min_height": null,
            "min_width": null,
            "object_fit": null,
            "object_position": null,
            "order": null,
            "overflow": null,
            "overflow_x": null,
            "overflow_y": null,
            "padding": null,
            "right": null,
            "top": null,
            "visibility": null,
            "width": null
          }
        },
        "411fe396306241028b066a8c74962584": {
          "model_module": "@jupyter-widgets/base",
          "model_module_version": "1.2.0",
          "model_name": "LayoutModel",
          "state": {
            "_model_module": "@jupyter-widgets/base",
            "_model_module_version": "1.2.0",
            "_model_name": "LayoutModel",
            "_view_count": null,
            "_view_module": "@jupyter-widgets/base",
            "_view_module_version": "1.2.0",
            "_view_name": "LayoutView",
            "align_content": null,
            "align_items": null,
            "align_self": null,
            "border": null,
            "bottom": null,
            "display": null,
            "flex": null,
            "flex_flow": null,
            "grid_area": null,
            "grid_auto_columns": null,
            "grid_auto_flow": null,
            "grid_auto_rows": null,
            "grid_column": null,
            "grid_gap": null,
            "grid_row": null,
            "grid_template_areas": null,
            "grid_template_columns": null,
            "grid_template_rows": null,
            "height": null,
            "justify_content": null,
            "justify_items": null,
            "left": null,
            "margin": null,
            "max_height": null,
            "max_width": null,
            "min_height": null,
            "min_width": null,
            "object_fit": null,
            "object_position": null,
            "order": null,
            "overflow": null,
            "overflow_x": null,
            "overflow_y": null,
            "padding": null,
            "right": null,
            "top": null,
            "visibility": null,
            "width": null
          }
        },
        "42e5bf9fda124315883a1aca8f57a80f": {
          "model_module": "@jupyter-widgets/controls",
          "model_module_version": "1.5.0",
          "model_name": "HTMLModel",
          "state": {
            "_dom_classes": [],
            "_model_module": "@jupyter-widgets/controls",
            "_model_module_version": "1.5.0",
            "_model_name": "HTMLModel",
            "_view_count": null,
            "_view_module": "@jupyter-widgets/controls",
            "_view_module_version": "1.5.0",
            "_view_name": "HTMLView",
            "description": "",
            "description_tooltip": null,
            "layout": "IPY_MODEL_4316eac48cc74655b9baaca8526a1d55",
            "placeholder": "​",
            "style": "IPY_MODEL_ceb81a3536754f85971af8fc0784d60b",
            "value": " 892M/892M [00:12&lt;00:00, 77.2MB/s]"
          }
        },
        "4316eac48cc74655b9baaca8526a1d55": {
          "model_module": "@jupyter-widgets/base",
          "model_module_version": "1.2.0",
          "model_name": "LayoutModel",
          "state": {
            "_model_module": "@jupyter-widgets/base",
            "_model_module_version": "1.2.0",
            "_model_name": "LayoutModel",
            "_view_count": null,
            "_view_module": "@jupyter-widgets/base",
            "_view_module_version": "1.2.0",
            "_view_name": "LayoutView",
            "align_content": null,
            "align_items": null,
            "align_self": null,
            "border": null,
            "bottom": null,
            "display": null,
            "flex": null,
            "flex_flow": null,
            "grid_area": null,
            "grid_auto_columns": null,
            "grid_auto_flow": null,
            "grid_auto_rows": null,
            "grid_column": null,
            "grid_gap": null,
            "grid_row": null,
            "grid_template_areas": null,
            "grid_template_columns": null,
            "grid_template_rows": null,
            "height": null,
            "justify_content": null,
            "justify_items": null,
            "left": null,
            "margin": null,
            "max_height": null,
            "max_width": null,
            "min_height": null,
            "min_width": null,
            "object_fit": null,
            "object_position": null,
            "order": null,
            "overflow": null,
            "overflow_x": null,
            "overflow_y": null,
            "padding": null,
            "right": null,
            "top": null,
            "visibility": null,
            "width": null
          }
        },
        "488bbd8352474030bcab56babd8153ce": {
          "model_module": "@jupyter-widgets/controls",
          "model_module_version": "1.5.0",
          "model_name": "HTMLModel",
          "state": {
            "_dom_classes": [],
            "_model_module": "@jupyter-widgets/controls",
            "_model_module_version": "1.5.0",
            "_model_name": "HTMLModel",
            "_view_count": null,
            "_view_module": "@jupyter-widgets/controls",
            "_view_module_version": "1.5.0",
            "_view_name": "HTMLView",
            "description": "",
            "description_tooltip": null,
            "layout": "IPY_MODEL_da421952303b416292c59eeb3f43bdca",
            "placeholder": "​",
            "style": "IPY_MODEL_af2a8dee863f4b82abccdffee7c05080",
            "value": " 1.21k/1.21k [00:00&lt;00:00, 63.3kB/s]"
          }
        },
        "492bfa34dfd34d3fbde2664b761d4cbd": {
          "model_module": "@jupyter-widgets/controls",
          "model_module_version": "1.5.0",
          "model_name": "ProgressStyleModel",
          "state": {
            "_model_module": "@jupyter-widgets/controls",
            "_model_module_version": "1.5.0",
            "_model_name": "ProgressStyleModel",
            "_view_count": null,
            "_view_module": "@jupyter-widgets/base",
            "_view_module_version": "1.2.0",
            "_view_name": "StyleView",
            "bar_color": null,
            "description_width": ""
          }
        },
        "4e6d1b8bf24d4c6cac68dac50ab82d45": {
          "model_module": "@jupyter-widgets/controls",
          "model_module_version": "1.5.0",
          "model_name": "HTMLModel",
          "state": {
            "_dom_classes": [],
            "_model_module": "@jupyter-widgets/controls",
            "_model_module_version": "1.5.0",
            "_model_name": "HTMLModel",
            "_view_count": null,
            "_view_module": "@jupyter-widgets/controls",
            "_view_module_version": "1.5.0",
            "_view_name": "HTMLView",
            "description": "",
            "description_tooltip": null,
            "layout": "IPY_MODEL_9f21ba8d373948fca57b12a0a4f41bf5",
            "placeholder": "​",
            "style": "IPY_MODEL_c43cbebc697c4b51bed3d5666de19db9",
            "value": "model.safetensors: 100%"
          }
        },
        "540078197ffd4ca08bb9c1ffb357196c": {
          "model_module": "@jupyter-widgets/base",
          "model_module_version": "1.2.0",
          "model_name": "LayoutModel",
          "state": {
            "_model_module": "@jupyter-widgets/base",
            "_model_module_version": "1.2.0",
            "_model_name": "LayoutModel",
            "_view_count": null,
            "_view_module": "@jupyter-widgets/base",
            "_view_module_version": "1.2.0",
            "_view_name": "LayoutView",
            "align_content": null,
            "align_items": null,
            "align_self": null,
            "border": null,
            "bottom": null,
            "display": null,
            "flex": null,
            "flex_flow": null,
            "grid_area": null,
            "grid_auto_columns": null,
            "grid_auto_flow": null,
            "grid_auto_rows": null,
            "grid_column": null,
            "grid_gap": null,
            "grid_row": null,
            "grid_template_areas": null,
            "grid_template_columns": null,
            "grid_template_rows": null,
            "height": null,
            "justify_content": null,
            "justify_items": null,
            "left": null,
            "margin": null,
            "max_height": null,
            "max_width": null,
            "min_height": null,
            "min_width": null,
            "object_fit": null,
            "object_position": null,
            "order": null,
            "overflow": null,
            "overflow_x": null,
            "overflow_y": null,
            "padding": null,
            "right": null,
            "top": null,
            "visibility": null,
            "width": null
          }
        },
        "56398f9ed0924f78ad0e0a2d668ff6de": {
          "model_module": "@jupyter-widgets/base",
          "model_module_version": "1.2.0",
          "model_name": "LayoutModel",
          "state": {
            "_model_module": "@jupyter-widgets/base",
            "_model_module_version": "1.2.0",
            "_model_name": "LayoutModel",
            "_view_count": null,
            "_view_module": "@jupyter-widgets/base",
            "_view_module_version": "1.2.0",
            "_view_name": "LayoutView",
            "align_content": null,
            "align_items": null,
            "align_self": null,
            "border": null,
            "bottom": null,
            "display": null,
            "flex": null,
            "flex_flow": null,
            "grid_area": null,
            "grid_auto_columns": null,
            "grid_auto_flow": null,
            "grid_auto_rows": null,
            "grid_column": null,
            "grid_gap": null,
            "grid_row": null,
            "grid_template_areas": null,
            "grid_template_columns": null,
            "grid_template_rows": null,
            "height": null,
            "justify_content": null,
            "justify_items": null,
            "left": null,
            "margin": null,
            "max_height": null,
            "max_width": null,
            "min_height": null,
            "min_width": null,
            "object_fit": null,
            "object_position": null,
            "order": null,
            "overflow": null,
            "overflow_x": null,
            "overflow_y": null,
            "padding": null,
            "right": null,
            "top": null,
            "visibility": null,
            "width": null
          }
        },
        "57b8123e6c794433bfb0c7a8fcc11a72": {
          "model_module": "@jupyter-widgets/base",
          "model_module_version": "1.2.0",
          "model_name": "LayoutModel",
          "state": {
            "_model_module": "@jupyter-widgets/base",
            "_model_module_version": "1.2.0",
            "_model_name": "LayoutModel",
            "_view_count": null,
            "_view_module": "@jupyter-widgets/base",
            "_view_module_version": "1.2.0",
            "_view_name": "LayoutView",
            "align_content": null,
            "align_items": null,
            "align_self": null,
            "border": null,
            "bottom": null,
            "display": null,
            "flex": "2",
            "flex_flow": null,
            "grid_area": null,
            "grid_auto_columns": null,
            "grid_auto_flow": null,
            "grid_auto_rows": null,
            "grid_column": null,
            "grid_gap": null,
            "grid_row": null,
            "grid_template_areas": null,
            "grid_template_columns": null,
            "grid_template_rows": null,
            "height": null,
            "justify_content": null,
            "justify_items": null,
            "left": null,
            "margin": null,
            "max_height": null,
            "max_width": null,
            "min_height": null,
            "min_width": null,
            "object_fit": null,
            "object_position": null,
            "order": null,
            "overflow": null,
            "overflow_x": null,
            "overflow_y": null,
            "padding": null,
            "right": null,
            "top": null,
            "visibility": null,
            "width": null
          }
        },
        "5e694782217c404fb62de91487cd5db9": {
          "model_module": "@jupyter-widgets/controls",
          "model_module_version": "1.5.0",
          "model_name": "FloatProgressModel",
          "state": {
            "_dom_classes": [],
            "_model_module": "@jupyter-widgets/controls",
            "_model_module_version": "1.5.0",
            "_model_name": "FloatProgressModel",
            "_view_count": null,
            "_view_module": "@jupyter-widgets/controls",
            "_view_module_version": "1.5.0",
            "_view_name": "ProgressView",
            "bar_style": "success",
            "description": "",
            "description_tooltip": null,
            "layout": "IPY_MODEL_0f0b54112fd24e43a3abb50eea78c025",
            "max": 1208,
            "min": 0,
            "orientation": "horizontal",
            "style": "IPY_MODEL_8f2e2a9ac1cc435eaf4b1eea7710ab8e",
            "value": 1208
          }
        },
        "5fccbdf6d4684a928227e8077c945090": {
          "model_module": "@jupyter-widgets/base",
          "model_module_version": "1.2.0",
          "model_name": "LayoutModel",
          "state": {
            "_model_module": "@jupyter-widgets/base",
            "_model_module_version": "1.2.0",
            "_model_name": "LayoutModel",
            "_view_count": null,
            "_view_module": "@jupyter-widgets/base",
            "_view_module_version": "1.2.0",
            "_view_name": "LayoutView",
            "align_content": null,
            "align_items": null,
            "align_self": null,
            "border": null,
            "bottom": null,
            "display": null,
            "flex": null,
            "flex_flow": null,
            "grid_area": null,
            "grid_auto_columns": null,
            "grid_auto_flow": null,
            "grid_auto_rows": null,
            "grid_column": null,
            "grid_gap": null,
            "grid_row": null,
            "grid_template_areas": null,
            "grid_template_columns": null,
            "grid_template_rows": null,
            "height": null,
            "justify_content": null,
            "justify_items": null,
            "left": null,
            "margin": null,
            "max_height": null,
            "max_width": null,
            "min_height": null,
            "min_width": null,
            "object_fit": null,
            "object_position": null,
            "order": null,
            "overflow": null,
            "overflow_x": null,
            "overflow_y": null,
            "padding": null,
            "right": null,
            "top": null,
            "visibility": null,
            "width": null
          }
        },
        "634bb7d6ea324a21981c001baa2b7910": {
          "model_module": "@jupyter-widgets/controls",
          "model_module_version": "1.5.0",
          "model_name": "HBoxModel",
          "state": {
            "_dom_classes": [],
            "_model_module": "@jupyter-widgets/controls",
            "_model_module_version": "1.5.0",
            "_model_name": "HBoxModel",
            "_view_count": null,
            "_view_module": "@jupyter-widgets/controls",
            "_view_module_version": "1.5.0",
            "_view_name": "HBoxView",
            "box_style": "",
            "children": [
              "IPY_MODEL_3aa6328ebf21453da870d76703945d4c",
              "IPY_MODEL_f2c0922e2fe94d6db35bb0cf82488b17",
              "IPY_MODEL_f76b0c3b838d42fda131e51490eacbfd"
            ],
            "layout": "IPY_MODEL_17deb33b10ec43ad8cb8e875f07d1f14"
          }
        },
        "67b499ee3d464b06a5fc052364d6f61d": {
          "model_module": "@jupyter-widgets/base",
          "model_module_version": "1.2.0",
          "model_name": "LayoutModel",
          "state": {
            "_model_module": "@jupyter-widgets/base",
            "_model_module_version": "1.2.0",
            "_model_name": "LayoutModel",
            "_view_count": null,
            "_view_module": "@jupyter-widgets/base",
            "_view_module_version": "1.2.0",
            "_view_name": "LayoutView",
            "align_content": null,
            "align_items": null,
            "align_self": null,
            "border": null,
            "bottom": null,
            "display": null,
            "flex": null,
            "flex_flow": null,
            "grid_area": null,
            "grid_auto_columns": null,
            "grid_auto_flow": null,
            "grid_auto_rows": null,
            "grid_column": null,
            "grid_gap": null,
            "grid_row": null,
            "grid_template_areas": null,
            "grid_template_columns": null,
            "grid_template_rows": null,
            "height": null,
            "justify_content": null,
            "justify_items": null,
            "left": null,
            "margin": null,
            "max_height": null,
            "max_width": null,
            "min_height": null,
            "min_width": null,
            "object_fit": null,
            "object_position": null,
            "order": null,
            "overflow": null,
            "overflow_x": null,
            "overflow_y": null,
            "padding": null,
            "right": null,
            "top": null,
            "visibility": null,
            "width": null
          }
        },
        "6d33698680d84c099797f40ea4ba92bc": {
          "model_module": "@jupyter-widgets/base",
          "model_module_version": "1.2.0",
          "model_name": "LayoutModel",
          "state": {
            "_model_module": "@jupyter-widgets/base",
            "_model_module_version": "1.2.0",
            "_model_name": "LayoutModel",
            "_view_count": null,
            "_view_module": "@jupyter-widgets/base",
            "_view_module_version": "1.2.0",
            "_view_name": "LayoutView",
            "align_content": null,
            "align_items": null,
            "align_self": null,
            "border": null,
            "bottom": null,
            "display": null,
            "flex": null,
            "flex_flow": null,
            "grid_area": null,
            "grid_auto_columns": null,
            "grid_auto_flow": null,
            "grid_auto_rows": null,
            "grid_column": null,
            "grid_gap": null,
            "grid_row": null,
            "grid_template_areas": null,
            "grid_template_columns": null,
            "grid_template_rows": null,
            "height": null,
            "justify_content": null,
            "justify_items": null,
            "left": null,
            "margin": null,
            "max_height": null,
            "max_width": null,
            "min_height": null,
            "min_width": null,
            "object_fit": null,
            "object_position": null,
            "order": null,
            "overflow": null,
            "overflow_x": null,
            "overflow_y": null,
            "padding": null,
            "right": null,
            "top": null,
            "visibility": null,
            "width": null
          }
        },
        "6fa852c84d3246c9b6435ead5cb0f428": {
          "model_module": "@jupyter-widgets/base",
          "model_module_version": "1.2.0",
          "model_name": "LayoutModel",
          "state": {
            "_model_module": "@jupyter-widgets/base",
            "_model_module_version": "1.2.0",
            "_model_name": "LayoutModel",
            "_view_count": null,
            "_view_module": "@jupyter-widgets/base",
            "_view_module_version": "1.2.0",
            "_view_name": "LayoutView",
            "align_content": null,
            "align_items": null,
            "align_self": null,
            "border": null,
            "bottom": null,
            "display": null,
            "flex": null,
            "flex_flow": null,
            "grid_area": null,
            "grid_auto_columns": null,
            "grid_auto_flow": null,
            "grid_auto_rows": null,
            "grid_column": null,
            "grid_gap": null,
            "grid_row": null,
            "grid_template_areas": null,
            "grid_template_columns": null,
            "grid_template_rows": null,
            "height": null,
            "justify_content": null,
            "justify_items": null,
            "left": null,
            "margin": null,
            "max_height": null,
            "max_width": null,
            "min_height": null,
            "min_width": null,
            "object_fit": null,
            "object_position": null,
            "order": null,
            "overflow": null,
            "overflow_x": null,
            "overflow_y": null,
            "padding": null,
            "right": null,
            "top": null,
            "visibility": null,
            "width": null
          }
        },
        "793f9e4baae04a43b039b6eefef973a4": {
          "model_module": "@jupyter-widgets/controls",
          "model_module_version": "1.5.0",
          "model_name": "HBoxModel",
          "state": {
            "_dom_classes": [],
            "_model_module": "@jupyter-widgets/controls",
            "_model_module_version": "1.5.0",
            "_model_name": "HBoxModel",
            "_view_count": null,
            "_view_module": "@jupyter-widgets/controls",
            "_view_module_version": "1.5.0",
            "_view_name": "HBoxView",
            "box_style": "",
            "children": [
              "IPY_MODEL_9e52ca23533f4ea880c9393a06004d88",
              "IPY_MODEL_9b3e080b80634dd7bcc23719728d38f1",
              "IPY_MODEL_b479585bc9ad444c938ebe3778ca5671"
            ],
            "layout": "IPY_MODEL_e53033ded8304d23ac2f03ae5eb9ed4e"
          }
        },
        "7af996f04cd043eb9a0b1b10c5a8127f": {
          "model_module": "@jupyter-widgets/controls",
          "model_module_version": "1.5.0",
          "model_name": "FloatProgressModel",
          "state": {
            "_dom_classes": [],
            "_model_module": "@jupyter-widgets/controls",
            "_model_module_version": "1.5.0",
            "_model_name": "FloatProgressModel",
            "_view_count": null,
            "_view_module": "@jupyter-widgets/controls",
            "_view_module_version": "1.5.0",
            "_view_name": "ProgressView",
            "bar_style": "success",
            "description": "",
            "description_tooltip": null,
            "layout": "IPY_MODEL_91bf2e0edf8c495fa899ab8369718aec",
            "max": 891646390,
            "min": 0,
            "orientation": "horizontal",
            "style": "IPY_MODEL_f65006b4a4ad40e6844f7d603be93068",
            "value": 891646390
          }
        },
        "898ce8c549754a70a462a8bb93e9507f": {
          "model_module": "@jupyter-widgets/base",
          "model_module_version": "1.2.0",
          "model_name": "LayoutModel",
          "state": {
            "_model_module": "@jupyter-widgets/base",
            "_model_module_version": "1.2.0",
            "_model_name": "LayoutModel",
            "_view_count": null,
            "_view_module": "@jupyter-widgets/base",
            "_view_module_version": "1.2.0",
            "_view_name": "LayoutView",
            "align_content": null,
            "align_items": null,
            "align_self": null,
            "border": null,
            "bottom": null,
            "display": null,
            "flex": null,
            "flex_flow": null,
            "grid_area": null,
            "grid_auto_columns": null,
            "grid_auto_flow": null,
            "grid_auto_rows": null,
            "grid_column": null,
            "grid_gap": null,
            "grid_row": null,
            "grid_template_areas": null,
            "grid_template_columns": null,
            "grid_template_rows": null,
            "height": null,
            "justify_content": null,
            "justify_items": null,
            "left": null,
            "margin": null,
            "max_height": null,
            "max_width": null,
            "min_height": null,
            "min_width": null,
            "object_fit": null,
            "object_position": null,
            "order": null,
            "overflow": null,
            "overflow_x": null,
            "overflow_y": null,
            "padding": null,
            "right": null,
            "top": null,
            "visibility": null,
            "width": null
          }
        },
        "8f2e2a9ac1cc435eaf4b1eea7710ab8e": {
          "model_module": "@jupyter-widgets/controls",
          "model_module_version": "1.5.0",
          "model_name": "ProgressStyleModel",
          "state": {
            "_model_module": "@jupyter-widgets/controls",
            "_model_module_version": "1.5.0",
            "_model_name": "ProgressStyleModel",
            "_view_count": null,
            "_view_module": "@jupyter-widgets/base",
            "_view_module_version": "1.2.0",
            "_view_name": "StyleView",
            "bar_color": null,
            "description_width": ""
          }
        },
        "9113f8d61f464cedbb53c4913ef89dd3": {
          "model_module": "@jupyter-widgets/base",
          "model_module_version": "1.2.0",
          "model_name": "LayoutModel",
          "state": {
            "_model_module": "@jupyter-widgets/base",
            "_model_module_version": "1.2.0",
            "_model_name": "LayoutModel",
            "_view_count": null,
            "_view_module": "@jupyter-widgets/base",
            "_view_module_version": "1.2.0",
            "_view_name": "LayoutView",
            "align_content": null,
            "align_items": null,
            "align_self": null,
            "border": null,
            "bottom": null,
            "display": null,
            "flex": null,
            "flex_flow": null,
            "grid_area": null,
            "grid_auto_columns": null,
            "grid_auto_flow": null,
            "grid_auto_rows": null,
            "grid_column": null,
            "grid_gap": null,
            "grid_row": null,
            "grid_template_areas": null,
            "grid_template_columns": null,
            "grid_template_rows": null,
            "height": null,
            "justify_content": null,
            "justify_items": null,
            "left": null,
            "margin": null,
            "max_height": null,
            "max_width": null,
            "min_height": null,
            "min_width": null,
            "object_fit": null,
            "object_position": null,
            "order": null,
            "overflow": null,
            "overflow_x": null,
            "overflow_y": null,
            "padding": null,
            "right": null,
            "top": null,
            "visibility": null,
            "width": null
          }
        },
        "91bf2e0edf8c495fa899ab8369718aec": {
          "model_module": "@jupyter-widgets/base",
          "model_module_version": "1.2.0",
          "model_name": "LayoutModel",
          "state": {
            "_model_module": "@jupyter-widgets/base",
            "_model_module_version": "1.2.0",
            "_model_name": "LayoutModel",
            "_view_count": null,
            "_view_module": "@jupyter-widgets/base",
            "_view_module_version": "1.2.0",
            "_view_name": "LayoutView",
            "align_content": null,
            "align_items": null,
            "align_self": null,
            "border": null,
            "bottom": null,
            "display": null,
            "flex": null,
            "flex_flow": null,
            "grid_area": null,
            "grid_auto_columns": null,
            "grid_auto_flow": null,
            "grid_auto_rows": null,
            "grid_column": null,
            "grid_gap": null,
            "grid_row": null,
            "grid_template_areas": null,
            "grid_template_columns": null,
            "grid_template_rows": null,
            "height": null,
            "justify_content": null,
            "justify_items": null,
            "left": null,
            "margin": null,
            "max_height": null,
            "max_width": null,
            "min_height": null,
            "min_width": null,
            "object_fit": null,
            "object_position": null,
            "order": null,
            "overflow": null,
            "overflow_x": null,
            "overflow_y": null,
            "padding": null,
            "right": null,
            "top": null,
            "visibility": null,
            "width": null
          }
        },
        "930c2ddcd33c4033b6b1530cb248eb0f": {
          "model_module": "@jupyter-widgets/controls",
          "model_module_version": "1.5.0",
          "model_name": "DescriptionStyleModel",
          "state": {
            "_model_module": "@jupyter-widgets/controls",
            "_model_module_version": "1.5.0",
            "_model_name": "DescriptionStyleModel",
            "_view_count": null,
            "_view_module": "@jupyter-widgets/base",
            "_view_module_version": "1.2.0",
            "_view_name": "StyleView",
            "description_width": ""
          }
        },
        "9b3e080b80634dd7bcc23719728d38f1": {
          "model_module": "@jupyter-widgets/controls",
          "model_module_version": "1.5.0",
          "model_name": "FloatProgressModel",
          "state": {
            "_dom_classes": [],
            "_model_module": "@jupyter-widgets/controls",
            "_model_module_version": "1.5.0",
            "_model_name": "FloatProgressModel",
            "_view_count": null,
            "_view_module": "@jupyter-widgets/controls",
            "_view_module_version": "1.5.0",
            "_view_name": "ProgressView",
            "bar_style": "success",
            "description": "",
            "description_tooltip": null,
            "layout": "IPY_MODEL_540078197ffd4ca08bb9c1ffb357196c",
            "max": 791656,
            "min": 0,
            "orientation": "horizontal",
            "style": "IPY_MODEL_f9f9b3ac7a8a4ef18cf224f08d83d998",
            "value": 791656
          }
        },
        "9e52ca23533f4ea880c9393a06004d88": {
          "model_module": "@jupyter-widgets/controls",
          "model_module_version": "1.5.0",
          "model_name": "HTMLModel",
          "state": {
            "_dom_classes": [],
            "_model_module": "@jupyter-widgets/controls",
            "_model_module_version": "1.5.0",
            "_model_name": "HTMLModel",
            "_view_count": null,
            "_view_module": "@jupyter-widgets/controls",
            "_view_module_version": "1.5.0",
            "_view_name": "HTMLView",
            "description": "",
            "description_tooltip": null,
            "layout": "IPY_MODEL_56398f9ed0924f78ad0e0a2d668ff6de",
            "placeholder": "​",
            "style": "IPY_MODEL_d97fc5356b89451d925e3520283dfd66",
            "value": "spiece.model: 100%"
          }
        },
        "9f21ba8d373948fca57b12a0a4f41bf5": {
          "model_module": "@jupyter-widgets/base",
          "model_module_version": "1.2.0",
          "model_name": "LayoutModel",
          "state": {
            "_model_module": "@jupyter-widgets/base",
            "_model_module_version": "1.2.0",
            "_model_name": "LayoutModel",
            "_view_count": null,
            "_view_module": "@jupyter-widgets/base",
            "_view_module_version": "1.2.0",
            "_view_name": "LayoutView",
            "align_content": null,
            "align_items": null,
            "align_self": null,
            "border": null,
            "bottom": null,
            "display": null,
            "flex": null,
            "flex_flow": null,
            "grid_area": null,
            "grid_auto_columns": null,
            "grid_auto_flow": null,
            "grid_auto_rows": null,
            "grid_column": null,
            "grid_gap": null,
            "grid_row": null,
            "grid_template_areas": null,
            "grid_template_columns": null,
            "grid_template_rows": null,
            "height": null,
            "justify_content": null,
            "justify_items": null,
            "left": null,
            "margin": null,
            "max_height": null,
            "max_width": null,
            "min_height": null,
            "min_width": null,
            "object_fit": null,
            "object_position": null,
            "order": null,
            "overflow": null,
            "overflow_x": null,
            "overflow_y": null,
            "padding": null,
            "right": null,
            "top": null,
            "visibility": null,
            "width": null
          }
        },
        "9f814957203a4662ae826233cc97cf90": {
          "model_module": "@jupyter-widgets/controls",
          "model_module_version": "1.5.0",
          "model_name": "HTMLModel",
          "state": {
            "_dom_classes": [],
            "_model_module": "@jupyter-widgets/controls",
            "_model_module_version": "1.5.0",
            "_model_name": "HTMLModel",
            "_view_count": null,
            "_view_module": "@jupyter-widgets/controls",
            "_view_module_version": "1.5.0",
            "_view_name": "HTMLView",
            "description": "",
            "description_tooltip": null,
            "layout": "IPY_MODEL_5fccbdf6d4684a928227e8077c945090",
            "placeholder": "​",
            "style": "IPY_MODEL_f3bfae159b9b490cb87dc9e71f149901",
            "value": "tokenizer.json: 100%"
          }
        },
        "aea6c97fe7114183bab72c4d24a5c27a": {
          "model_module": "@jupyter-widgets/controls",
          "model_module_version": "1.5.0",
          "model_name": "HTMLModel",
          "state": {
            "_dom_classes": [],
            "_model_module": "@jupyter-widgets/controls",
            "_model_module_version": "1.5.0",
            "_model_name": "HTMLModel",
            "_view_count": null,
            "_view_module": "@jupyter-widgets/controls",
            "_view_module_version": "1.5.0",
            "_view_name": "HTMLView",
            "description": "",
            "description_tooltip": null,
            "layout": "IPY_MODEL_b94bba80ac324e948820bcc6465a884f",
            "placeholder": "​",
            "style": "IPY_MODEL_930c2ddcd33c4033b6b1530cb248eb0f",
            "value": "generation_config.json: 100%"
          }
        },
        "af2a8dee863f4b82abccdffee7c05080": {
          "model_module": "@jupyter-widgets/controls",
          "model_module_version": "1.5.0",
          "model_name": "DescriptionStyleModel",
          "state": {
            "_model_module": "@jupyter-widgets/controls",
            "_model_module_version": "1.5.0",
            "_model_name": "DescriptionStyleModel",
            "_view_count": null,
            "_view_module": "@jupyter-widgets/base",
            "_view_module_version": "1.2.0",
            "_view_name": "StyleView",
            "description_width": ""
          }
        },
        "aff1eb7059ab4a8492be736cc7925c30": {
          "model_module": "@jupyter-widgets/controls",
          "model_module_version": "1.5.0",
          "model_name": "DescriptionStyleModel",
          "state": {
            "_model_module": "@jupyter-widgets/controls",
            "_model_module_version": "1.5.0",
            "_model_name": "DescriptionStyleModel",
            "_view_count": null,
            "_view_module": "@jupyter-widgets/base",
            "_view_module_version": "1.2.0",
            "_view_name": "StyleView",
            "description_width": ""
          }
        },
        "b34cc6d2574644299ee865fdba75eb1f": {
          "model_module": "@jupyter-widgets/controls",
          "model_module_version": "1.5.0",
          "model_name": "DescriptionStyleModel",
          "state": {
            "_model_module": "@jupyter-widgets/controls",
            "_model_module_version": "1.5.0",
            "_model_name": "DescriptionStyleModel",
            "_view_count": null,
            "_view_module": "@jupyter-widgets/base",
            "_view_module_version": "1.2.0",
            "_view_name": "StyleView",
            "description_width": ""
          }
        },
        "b479585bc9ad444c938ebe3778ca5671": {
          "model_module": "@jupyter-widgets/controls",
          "model_module_version": "1.5.0",
          "model_name": "HTMLModel",
          "state": {
            "_dom_classes": [],
            "_model_module": "@jupyter-widgets/controls",
            "_model_module_version": "1.5.0",
            "_model_name": "HTMLModel",
            "_view_count": null,
            "_view_module": "@jupyter-widgets/controls",
            "_view_module_version": "1.5.0",
            "_view_name": "HTMLView",
            "description": "",
            "description_tooltip": null,
            "layout": "IPY_MODEL_67b499ee3d464b06a5fc052364d6f61d",
            "placeholder": "​",
            "style": "IPY_MODEL_3ebde9ca0c3b4070bc18e0e77831fb2e",
            "value": " 792k/792k [00:01&lt;00:00, 778kB/s]"
          }
        },
        "b94bba80ac324e948820bcc6465a884f": {
          "model_module": "@jupyter-widgets/base",
          "model_module_version": "1.2.0",
          "model_name": "LayoutModel",
          "state": {
            "_model_module": "@jupyter-widgets/base",
            "_model_module_version": "1.2.0",
            "_model_name": "LayoutModel",
            "_view_count": null,
            "_view_module": "@jupyter-widgets/base",
            "_view_module_version": "1.2.0",
            "_view_name": "LayoutView",
            "align_content": null,
            "align_items": null,
            "align_self": null,
            "border": null,
            "bottom": null,
            "display": null,
            "flex": null,
            "flex_flow": null,
            "grid_area": null,
            "grid_auto_columns": null,
            "grid_auto_flow": null,
            "grid_auto_rows": null,
            "grid_column": null,
            "grid_gap": null,
            "grid_row": null,
            "grid_template_areas": null,
            "grid_template_columns": null,
            "grid_template_rows": null,
            "height": null,
            "justify_content": null,
            "justify_items": null,
            "left": null,
            "margin": null,
            "max_height": null,
            "max_width": null,
            "min_height": null,
            "min_width": null,
            "object_fit": null,
            "object_position": null,
            "order": null,
            "overflow": null,
            "overflow_x": null,
            "overflow_y": null,
            "padding": null,
            "right": null,
            "top": null,
            "visibility": null,
            "width": null
          }
        },
        "bb6d704cc04549b690d95d2047826b44": {
          "model_module": "@jupyter-widgets/base",
          "model_module_version": "1.2.0",
          "model_name": "LayoutModel",
          "state": {
            "_model_module": "@jupyter-widgets/base",
            "_model_module_version": "1.2.0",
            "_model_name": "LayoutModel",
            "_view_count": null,
            "_view_module": "@jupyter-widgets/base",
            "_view_module_version": "1.2.0",
            "_view_name": "LayoutView",
            "align_content": null,
            "align_items": null,
            "align_self": null,
            "border": null,
            "bottom": null,
            "display": null,
            "flex": null,
            "flex_flow": null,
            "grid_area": null,
            "grid_auto_columns": null,
            "grid_auto_flow": null,
            "grid_auto_rows": null,
            "grid_column": null,
            "grid_gap": null,
            "grid_row": null,
            "grid_template_areas": null,
            "grid_template_columns": null,
            "grid_template_rows": null,
            "height": null,
            "justify_content": null,
            "justify_items": null,
            "left": null,
            "margin": null,
            "max_height": null,
            "max_width": null,
            "min_height": null,
            "min_width": null,
            "object_fit": null,
            "object_position": null,
            "order": null,
            "overflow": null,
            "overflow_x": null,
            "overflow_y": null,
            "padding": null,
            "right": null,
            "top": null,
            "visibility": null,
            "width": null
          }
        },
        "c3cb25df039146d4b1741b36f3c3d5dd": {
          "model_module": "@jupyter-widgets/controls",
          "model_module_version": "1.5.0",
          "model_name": "HTMLModel",
          "state": {
            "_dom_classes": [],
            "_model_module": "@jupyter-widgets/controls",
            "_model_module_version": "1.5.0",
            "_model_name": "HTMLModel",
            "_view_count": null,
            "_view_module": "@jupyter-widgets/controls",
            "_view_module_version": "1.5.0",
            "_view_name": "HTMLView",
            "description": "",
            "description_tooltip": null,
            "layout": "IPY_MODEL_bb6d704cc04549b690d95d2047826b44",
            "placeholder": "​",
            "style": "IPY_MODEL_e55081411b6d46138ac68a0aa80bf8bc",
            "value": "config.json: 100%"
          }
        },
        "c43cbebc697c4b51bed3d5666de19db9": {
          "model_module": "@jupyter-widgets/controls",
          "model_module_version": "1.5.0",
          "model_name": "DescriptionStyleModel",
          "state": {
            "_model_module": "@jupyter-widgets/controls",
            "_model_module_version": "1.5.0",
            "_model_name": "DescriptionStyleModel",
            "_view_count": null,
            "_view_module": "@jupyter-widgets/base",
            "_view_module_version": "1.2.0",
            "_view_name": "StyleView",
            "description_width": ""
          }
        },
        "c527a0bfb6aa499f8c0a16c71f1b87ce": {
          "model_module": "@jupyter-widgets/controls",
          "model_module_version": "1.5.0",
          "model_name": "FloatProgressModel",
          "state": {
            "_dom_classes": [],
            "_model_module": "@jupyter-widgets/controls",
            "_model_module_version": "1.5.0",
            "_model_name": "FloatProgressModel",
            "_view_count": null,
            "_view_module": "@jupyter-widgets/controls",
            "_view_module_version": "1.5.0",
            "_view_name": "ProgressView",
            "bar_style": "success",
            "description": "",
            "description_tooltip": null,
            "layout": "IPY_MODEL_0d3d39dbee264fd8a43d7b85cbf56fe6",
            "max": 1389353,
            "min": 0,
            "orientation": "horizontal",
            "style": "IPY_MODEL_d626f0ef988b44a0807b83be206c3dc8",
            "value": 1389353
          }
        },
        "c9733795c2194e798635e109db812627": {
          "model_module": "@jupyter-widgets/controls",
          "model_module_version": "1.5.0",
          "model_name": "FloatProgressModel",
          "state": {
            "_dom_classes": [],
            "_model_module": "@jupyter-widgets/controls",
            "_model_module_version": "1.5.0",
            "_model_name": "FloatProgressModel",
            "_view_count": null,
            "_view_module": "@jupyter-widgets/controls",
            "_view_module_version": "1.5.0",
            "_view_name": "ProgressView",
            "bar_style": "success",
            "description": "",
            "description_tooltip": null,
            "layout": "IPY_MODEL_d5793a3c8ca54b4c98fb864d0a82ec09",
            "max": 147,
            "min": 0,
            "orientation": "horizontal",
            "style": "IPY_MODEL_efc3d6d0034941ac8ccdbd9c0dc29b90",
            "value": 147
          }
        },
        "cd8f6e3658e44861b00f05b2e4cdaa31": {
          "model_module": "@jupyter-widgets/controls",
          "model_module_version": "1.5.0",
          "model_name": "HBoxModel",
          "state": {
            "_dom_classes": [],
            "_model_module": "@jupyter-widgets/controls",
            "_model_module_version": "1.5.0",
            "_model_name": "HBoxModel",
            "_view_count": null,
            "_view_module": "@jupyter-widgets/controls",
            "_view_module_version": "1.5.0",
            "_view_name": "HBoxView",
            "box_style": "",
            "children": [
              "IPY_MODEL_4e6d1b8bf24d4c6cac68dac50ab82d45",
              "IPY_MODEL_7af996f04cd043eb9a0b1b10c5a8127f",
              "IPY_MODEL_42e5bf9fda124315883a1aca8f57a80f"
            ],
            "layout": "IPY_MODEL_898ce8c549754a70a462a8bb93e9507f"
          }
        },
        "ceb81a3536754f85971af8fc0784d60b": {
          "model_module": "@jupyter-widgets/controls",
          "model_module_version": "1.5.0",
          "model_name": "DescriptionStyleModel",
          "state": {
            "_model_module": "@jupyter-widgets/controls",
            "_model_module_version": "1.5.0",
            "_model_name": "DescriptionStyleModel",
            "_view_count": null,
            "_view_module": "@jupyter-widgets/base",
            "_view_module_version": "1.2.0",
            "_view_name": "StyleView",
            "description_width": ""
          }
        },
        "d5793a3c8ca54b4c98fb864d0a82ec09": {
          "model_module": "@jupyter-widgets/base",
          "model_module_version": "1.2.0",
          "model_name": "LayoutModel",
          "state": {
            "_model_module": "@jupyter-widgets/base",
            "_model_module_version": "1.2.0",
            "_model_name": "LayoutModel",
            "_view_count": null,
            "_view_module": "@jupyter-widgets/base",
            "_view_module_version": "1.2.0",
            "_view_name": "LayoutView",
            "align_content": null,
            "align_items": null,
            "align_self": null,
            "border": null,
            "bottom": null,
            "display": null,
            "flex": null,
            "flex_flow": null,
            "grid_area": null,
            "grid_auto_columns": null,
            "grid_auto_flow": null,
            "grid_auto_rows": null,
            "grid_column": null,
            "grid_gap": null,
            "grid_row": null,
            "grid_template_areas": null,
            "grid_template_columns": null,
            "grid_template_rows": null,
            "height": null,
            "justify_content": null,
            "justify_items": null,
            "left": null,
            "margin": null,
            "max_height": null,
            "max_width": null,
            "min_height": null,
            "min_width": null,
            "object_fit": null,
            "object_position": null,
            "order": null,
            "overflow": null,
            "overflow_x": null,
            "overflow_y": null,
            "padding": null,
            "right": null,
            "top": null,
            "visibility": null,
            "width": null
          }
        },
        "d626f0ef988b44a0807b83be206c3dc8": {
          "model_module": "@jupyter-widgets/controls",
          "model_module_version": "1.5.0",
          "model_name": "ProgressStyleModel",
          "state": {
            "_model_module": "@jupyter-widgets/controls",
            "_model_module_version": "1.5.0",
            "_model_name": "ProgressStyleModel",
            "_view_count": null,
            "_view_module": "@jupyter-widgets/base",
            "_view_module_version": "1.2.0",
            "_view_name": "StyleView",
            "bar_color": null,
            "description_width": ""
          }
        },
        "d97fc5356b89451d925e3520283dfd66": {
          "model_module": "@jupyter-widgets/controls",
          "model_module_version": "1.5.0",
          "model_name": "DescriptionStyleModel",
          "state": {
            "_model_module": "@jupyter-widgets/controls",
            "_model_module_version": "1.5.0",
            "_model_name": "DescriptionStyleModel",
            "_view_count": null,
            "_view_module": "@jupyter-widgets/base",
            "_view_module_version": "1.2.0",
            "_view_name": "StyleView",
            "description_width": ""
          }
        },
        "da421952303b416292c59eeb3f43bdca": {
          "model_module": "@jupyter-widgets/base",
          "model_module_version": "1.2.0",
          "model_name": "LayoutModel",
          "state": {
            "_model_module": "@jupyter-widgets/base",
            "_model_module_version": "1.2.0",
            "_model_name": "LayoutModel",
            "_view_count": null,
            "_view_module": "@jupyter-widgets/base",
            "_view_module_version": "1.2.0",
            "_view_name": "LayoutView",
            "align_content": null,
            "align_items": null,
            "align_self": null,
            "border": null,
            "bottom": null,
            "display": null,
            "flex": null,
            "flex_flow": null,
            "grid_area": null,
            "grid_auto_columns": null,
            "grid_auto_flow": null,
            "grid_auto_rows": null,
            "grid_column": null,
            "grid_gap": null,
            "grid_row": null,
            "grid_template_areas": null,
            "grid_template_columns": null,
            "grid_template_rows": null,
            "height": null,
            "justify_content": null,
            "justify_items": null,
            "left": null,
            "margin": null,
            "max_height": null,
            "max_width": null,
            "min_height": null,
            "min_width": null,
            "object_fit": null,
            "object_position": null,
            "order": null,
            "overflow": null,
            "overflow_x": null,
            "overflow_y": null,
            "padding": null,
            "right": null,
            "top": null,
            "visibility": null,
            "width": null
          }
        },
        "dccb6fd890684b3e86e6082174049e74": {
          "model_module": "@jupyter-widgets/controls",
          "model_module_version": "1.5.0",
          "model_name": "HBoxModel",
          "state": {
            "_dom_classes": [],
            "_model_module": "@jupyter-widgets/controls",
            "_model_module_version": "1.5.0",
            "_model_name": "HBoxModel",
            "_view_count": null,
            "_view_module": "@jupyter-widgets/controls",
            "_view_module_version": "1.5.0",
            "_view_name": "HBoxView",
            "box_style": "",
            "children": [
              "IPY_MODEL_9f814957203a4662ae826233cc97cf90",
              "IPY_MODEL_c527a0bfb6aa499f8c0a16c71f1b87ce",
              "IPY_MODEL_37a80b8ab0ac439690231a48b5f23175"
            ],
            "layout": "IPY_MODEL_3152ed4e5a4841378f55002e04e2b265"
          }
        },
        "e53033ded8304d23ac2f03ae5eb9ed4e": {
          "model_module": "@jupyter-widgets/base",
          "model_module_version": "1.2.0",
          "model_name": "LayoutModel",
          "state": {
            "_model_module": "@jupyter-widgets/base",
            "_model_module_version": "1.2.0",
            "_model_name": "LayoutModel",
            "_view_count": null,
            "_view_module": "@jupyter-widgets/base",
            "_view_module_version": "1.2.0",
            "_view_name": "LayoutView",
            "align_content": null,
            "align_items": null,
            "align_self": null,
            "border": null,
            "bottom": null,
            "display": null,
            "flex": null,
            "flex_flow": null,
            "grid_area": null,
            "grid_auto_columns": null,
            "grid_auto_flow": null,
            "grid_auto_rows": null,
            "grid_column": null,
            "grid_gap": null,
            "grid_row": null,
            "grid_template_areas": null,
            "grid_template_columns": null,
            "grid_template_rows": null,
            "height": null,
            "justify_content": null,
            "justify_items": null,
            "left": null,
            "margin": null,
            "max_height": null,
            "max_width": null,
            "min_height": null,
            "min_width": null,
            "object_fit": null,
            "object_position": null,
            "order": null,
            "overflow": null,
            "overflow_x": null,
            "overflow_y": null,
            "padding": null,
            "right": null,
            "top": null,
            "visibility": null,
            "width": null
          }
        },
        "e55081411b6d46138ac68a0aa80bf8bc": {
          "model_module": "@jupyter-widgets/controls",
          "model_module_version": "1.5.0",
          "model_name": "DescriptionStyleModel",
          "state": {
            "_model_module": "@jupyter-widgets/controls",
            "_model_module_version": "1.5.0",
            "_model_name": "DescriptionStyleModel",
            "_view_count": null,
            "_view_module": "@jupyter-widgets/base",
            "_view_module_version": "1.2.0",
            "_view_name": "StyleView",
            "description_width": ""
          }
        },
        "efc3d6d0034941ac8ccdbd9c0dc29b90": {
          "model_module": "@jupyter-widgets/controls",
          "model_module_version": "1.5.0",
          "model_name": "ProgressStyleModel",
          "state": {
            "_model_module": "@jupyter-widgets/controls",
            "_model_module_version": "1.5.0",
            "_model_name": "ProgressStyleModel",
            "_view_count": null,
            "_view_module": "@jupyter-widgets/base",
            "_view_module_version": "1.2.0",
            "_view_name": "StyleView",
            "bar_color": null,
            "description_width": ""
          }
        },
        "f2c0922e2fe94d6db35bb0cf82488b17": {
          "model_module": "@jupyter-widgets/controls",
          "model_module_version": "1.5.0",
          "model_name": "FloatProgressModel",
          "state": {
            "_dom_classes": [],
            "_model_module": "@jupyter-widgets/controls",
            "_model_module_version": "1.5.0",
            "_model_name": "FloatProgressModel",
            "_view_count": null,
            "_view_module": "@jupyter-widgets/controls",
            "_view_module_version": "1.5.0",
            "_view_name": "ProgressView",
            "bar_style": "info",
            "description": "",
            "description_tooltip": null,
            "layout": "IPY_MODEL_57b8123e6c794433bfb0c7a8fcc11a72",
            "max": 1,
            "min": 0,
            "orientation": "horizontal",
            "style": "IPY_MODEL_492bfa34dfd34d3fbde2664b761d4cbd",
            "value": 0
          }
        },
        "f3bfae159b9b490cb87dc9e71f149901": {
          "model_module": "@jupyter-widgets/controls",
          "model_module_version": "1.5.0",
          "model_name": "DescriptionStyleModel",
          "state": {
            "_model_module": "@jupyter-widgets/controls",
            "_model_module_version": "1.5.0",
            "_model_name": "DescriptionStyleModel",
            "_view_count": null,
            "_view_module": "@jupyter-widgets/base",
            "_view_module_version": "1.2.0",
            "_view_name": "StyleView",
            "description_width": ""
          }
        },
        "f65006b4a4ad40e6844f7d603be93068": {
          "model_module": "@jupyter-widgets/controls",
          "model_module_version": "1.5.0",
          "model_name": "ProgressStyleModel",
          "state": {
            "_model_module": "@jupyter-widgets/controls",
            "_model_module_version": "1.5.0",
            "_model_name": "ProgressStyleModel",
            "_view_count": null,
            "_view_module": "@jupyter-widgets/base",
            "_view_module_version": "1.2.0",
            "_view_name": "StyleView",
            "bar_color": null,
            "description_width": ""
          }
        },
        "f76b0c3b838d42fda131e51490eacbfd": {
          "model_module": "@jupyter-widgets/controls",
          "model_module_version": "1.5.0",
          "model_name": "HTMLModel",
          "state": {
            "_dom_classes": [],
            "_model_module": "@jupyter-widgets/controls",
            "_model_module_version": "1.5.0",
            "_model_name": "HTMLModel",
            "_view_count": null,
            "_view_module": "@jupyter-widgets/controls",
            "_view_module_version": "1.5.0",
            "_view_name": "HTMLView",
            "description": "",
            "description_tooltip": null,
            "layout": "IPY_MODEL_9113f8d61f464cedbb53c4913ef89dd3",
            "placeholder": "​",
            "style": "IPY_MODEL_f99880d2962d4126ba73bd30e47a0edd",
            "value": " 0/? [00:00&lt;?, ?it/s]"
          }
        },
        "f99880d2962d4126ba73bd30e47a0edd": {
          "model_module": "@jupyter-widgets/controls",
          "model_module_version": "1.5.0",
          "model_name": "DescriptionStyleModel",
          "state": {
            "_model_module": "@jupyter-widgets/controls",
            "_model_module_version": "1.5.0",
            "_model_name": "DescriptionStyleModel",
            "_view_count": null,
            "_view_module": "@jupyter-widgets/base",
            "_view_module_version": "1.2.0",
            "_view_name": "StyleView",
            "description_width": ""
          }
        },
        "f9f9b3ac7a8a4ef18cf224f08d83d998": {
          "model_module": "@jupyter-widgets/controls",
          "model_module_version": "1.5.0",
          "model_name": "ProgressStyleModel",
          "state": {
            "_model_module": "@jupyter-widgets/controls",
            "_model_module_version": "1.5.0",
            "_model_name": "ProgressStyleModel",
            "_view_count": null,
            "_view_module": "@jupyter-widgets/base",
            "_view_module_version": "1.2.0",
            "_view_name": "StyleView",
            "bar_color": null,
            "description_width": ""
          }
        }
      }
    }
  },
  "nbformat": 4,
  "nbformat_minor": 0
}
